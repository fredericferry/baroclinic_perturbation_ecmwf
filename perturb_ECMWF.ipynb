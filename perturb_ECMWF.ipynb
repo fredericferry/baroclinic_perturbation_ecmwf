{
 "cells": [
  {
   "cell_type": "markdown",
   "metadata": {},
   "source": [
    "# Etude d'une perturbation barocline dans les analyses ECMWF\n",
    "\n",
    "Auteur : FERRY Frédéric (DESR/ENM/C3M) - novembre 2022\n",
    "\n",
    "<img src=\"201401260600.png\" width=\"800\">\n",
    "\n",
    "\n",
    "Données issues des analyses ECMWF :\n",
    "https://www.ecmwf.int/en/forecasts/dataset/operational-archive\n",
    "\n",
    "Concepts illustrés :\n",
    "- Calcul d'épaisseurs\n",
    "- Calcul de la témpérature potentielle\n",
    "- Calcul de la température potentielle équivalente (fonction Metpy)\n",
    "- Calcul de l'humidité relative (fonction Metpy)\n",
    "- Calcul du vent géostrophique/agéostrophique\n",
    "- Calcul du vent thermique\n",
    "- Calcul de la divergence\n",
    "- Calcul du tourbillon (relatif/absolu)\n",
    "- Calcul du tourbillon potentiel d'Ertel\n",
    "- Calcul d'advection de température\n",
    "- Calcul d'advection différentielle de tourbillon\n",
    "- Tracés de cartes et de coupes verticales\n",
    "- Ajout des min/max sur une carte\n",
    "- Découpage d'un cercle autour d'un système\n",
    "\n",
    "Concepts avancés de météorologie dynamique illustrés :\n",
    "- Filtrage spatial de champs pour isoler les structures de grande échelle (fonction gaussian_filter de scipy)\n",
    "- Interpolation d'un champ sur une surface isentrope à 𝛉 constante (fonction Metpy)\n",
    "- Calcul du forçage géostrophique (Q1, Q2, div(Q))\n",
    "- Fonction de frontogenèse et champ de déformation"
   ]
  },
  {
   "cell_type": "code",
   "execution_count": null,
   "metadata": {
    "scrolled": false
   },
   "outputs": [],
   "source": [
    "import os\n",
    "\n",
    "import xarray as xr\n",
    "import numpy as np\n",
    "\n",
    "import cartopy.crs as ccrs\n",
    "from cartopy.mpl.geoaxes import GeoAxes\n",
    "from cartopy.mpl.ticker import LongitudeFormatter, LatitudeFormatter\n",
    "import cartopy.feature as cfeature\n",
    "from cartopy.mpl.patch import geos_to_path\n",
    "\n",
    "import matplotlib as mpl\n",
    "import matplotlib.pyplot as plt\n",
    "import matplotlib.path as mpath\n",
    "from mpl_toolkits.axes_grid1 import AxesGrid\n",
    "from mpl_toolkits.mplot3d import Axes3D\n",
    "from matplotlib import cm\n",
    "from matplotlib.collections import LineCollection\n",
    "\n",
    "import metpy\n",
    "import metpy.calc as mpcalc\n",
    "from metpy.units import units\n",
    "\n",
    "from scipy.ndimage import gaussian_filter\n",
    "from scipy.ndimage import maximum_filter, minimum_filter\n",
    "\n",
    "import IPython.display as IPdisplay, matplotlib.font_manager as fm\n",
    "from PIL import Image\n",
    "import glob\n",
    "import itertools\n",
    "\n",
    "import warnings\n",
    "warnings.filterwarnings('ignore')"
   ]
  },
  {
   "cell_type": "raw",
   "metadata": {},
   "source": [
    "Constantes."
   ]
  },
  {
   "cell_type": "code",
   "execution_count": null,
   "metadata": {
    "scrolled": true
   },
   "outputs": [],
   "source": [
    "re=6.37e6\n",
    "g=9.81\n",
    "omega=7.292e-5\n",
    "\n",
    "cp=1004.5\n",
    "r=2*cp/7\n",
    "kap=r/cp"
   ]
  },
  {
   "cell_type": "markdown",
   "metadata": {},
   "source": [
    "# Ouverture des données netcdf (z, u, v, t, pv, w, q)"
   ]
  },
  {
   "cell_type": "raw",
   "metadata": {},
   "source": [
    "Choix des dates à extraire."
   ]
  },
  {
   "cell_type": "code",
   "execution_count": null,
   "metadata": {
    "scrolled": false
   },
   "outputs": [],
   "source": [
    "date1='20140125-T00'\n",
    "date2='20140126-T18'"
   ]
  },
  {
   "cell_type": "raw",
   "metadata": {},
   "source": [
    "Ouverture des données netcdf pour les dates choisies. Pmer, z, u, v, t, PV, w, q"
   ]
  },
  {
   "cell_type": "code",
   "execution_count": null,
   "metadata": {
    "scrolled": false
   },
   "outputs": [],
   "source": [
    "fp    = xr.open_dataset('./ecmwf/20140124-26_msl.nc').sel(time=slice(date1,date2))\n",
    "fz    = xr.open_dataset('./ecmwf/20140124-26_z.nc').sel(time=slice(date1,date2))\n",
    "fu    = xr.open_dataset('./ecmwf/20140124-26_u.nc').sel(time=slice(date1,date2))\n",
    "fv    = xr.open_dataset('./ecmwf/20140124-26_v.nc').sel(time=slice(date1,date2))\n",
    "ft    = xr.open_dataset('./ecmwf/20140124-26_t.nc').sel(time=slice(date1,date2))\n",
    "fpv    = xr.open_dataset('./ecmwf/20140124-26_pv.nc').sel(time=slice(date1,date2))\n",
    "fw    = xr.open_dataset('./ecmwf/20140124-26_w.nc').sel(time=slice(date1,date2))\n",
    "fq    = xr.open_dataset('./ecmwf/20140124-26_q.nc').sel(time=slice(date1,date2))\n",
    "\n",
    "print(fq.variables)\n",
    "\n",
    "msl0 = fp['msl']/100\n",
    "z0 = fz['z']/g\n",
    "t0 = ft['t']\n",
    "u0 = fu['u']\n",
    "v0 = fv['v']\n",
    "w0 = fw['w']\n",
    "q0 = fq['q']\n",
    "pv0 = fpv['pv']\n",
    "\n",
    "print(pv0.shape)\n",
    "print(msl0.shape)"
   ]
  },
  {
   "cell_type": "raw",
   "metadata": {},
   "source": [
    "Gestion des dates sous format chaine de caractères."
   ]
  },
  {
   "cell_type": "code",
   "execution_count": null,
   "metadata": {
    "scrolled": false
   },
   "outputs": [],
   "source": [
    "time  = fz.time.values\n",
    "\n",
    "time_str=[x for x in range(len(time))]\n",
    "date_str=[x for x in range(len(time))]\n",
    "for i in range(len(time)):\n",
    "\ttime_str[i] = str(time[i])\n",
    "\tdate_str[i] = time_str[i][0:13]\n",
    "print(date_str)"
   ]
  },
  {
   "cell_type": "raw",
   "metadata": {},
   "source": [
    "Tableau des niveaux isobares et indices des niveaux verticaux souhaités."
   ]
  },
  {
   "cell_type": "code",
   "execution_count": null,
   "metadata": {
    "scrolled": true
   },
   "outputs": [],
   "source": [
    "lev = fz.level.values\n",
    "print(lev)\n",
    "\n",
    "lev925 = list(lev).index(925)\n",
    "lev850 = list(lev).index(850)\n",
    "lev700 = list(lev).index(700)\n",
    "lev600 = list(lev).index(600)\n",
    "lev500 = list(lev).index(500)\n",
    "lev300 = list(lev).index(300)"
   ]
  },
  {
   "cell_type": "raw",
   "metadata": {},
   "source": [
    "Fonction de conversion des longitudes 0 - 360 en -180 - 180"
   ]
  },
  {
   "cell_type": "code",
   "execution_count": null,
   "metadata": {
    "scrolled": false
   },
   "outputs": [],
   "source": [
    "def lonflip(da):\n",
    "    lon_name = 'longitude'\n",
    "    da['_longitude_adjusted'] = xr.where(\n",
    "        da[lon_name] > 180,\n",
    "        da[lon_name] - 360,\n",
    "        da[lon_name])\n",
    "    da = (\n",
    "        da\n",
    "        .swap_dims({lon_name: '_longitude_adjusted'})\n",
    "        .sel(**{'_longitude_adjusted': sorted(da._longitude_adjusted)})\n",
    "        .drop(lon_name))\n",
    "    da = da.rename({'_longitude_adjusted': lon_name})\n",
    "    return da"
   ]
  },
  {
   "cell_type": "raw",
   "metadata": {},
   "source": [
    "Conversion longitudes en -180 à 180"
   ]
  },
  {
   "cell_type": "code",
   "execution_count": null,
   "metadata": {
    "scrolled": false
   },
   "outputs": [],
   "source": [
    "z1 = lonflip(z0)\n",
    "u1 = lonflip(u0)\n",
    "v1 = lonflip(v0)\n",
    "t1 = lonflip(t0)\n",
    "w1 = lonflip(w0)\n",
    "\n",
    "msl1 = lonflip(msl0)\n",
    "z1 = lonflip(z0)\n",
    "t1 = lonflip(t0)\n",
    "u1 = lonflip(u0)\n",
    "v1 = lonflip(v0)\n",
    "w1 = lonflip(w0)\n",
    "q1 = lonflip(q0)\n",
    "pv1 = lonflip(pv0)\n",
    "\n",
    "lon0  = w1.longitude.values\n",
    "print(lon0)"
   ]
  },
  {
   "cell_type": "raw",
   "metadata": {},
   "source": [
    "Sélection des données sur un sous-domaine géographique pour tous les champs."
   ]
  },
  {
   "cell_type": "code",
   "execution_count": null,
   "metadata": {
    "scrolled": true
   },
   "outputs": [],
   "source": [
    "latS=35\n",
    "latN=65\n",
    "lonW=-50\n",
    "lonE=20\n",
    "\n",
    "msl = msl1.sel(latitude=slice(latN,latS)).sel(longitude=slice(lonW,lonE))\n",
    "z = z1.sel(latitude=slice(latN,latS)).sel(longitude=slice(lonW,lonE))\n",
    "u = u1.sel(latitude=slice(latN,latS)).sel(longitude=slice(lonW,lonE))\n",
    "v = v1.sel(latitude=slice(latN,latS)).sel(longitude=slice(lonW,lonE))\n",
    "t = t1.sel(latitude=slice(latN,latS)).sel(longitude=slice(lonW,lonE))\n",
    "w = w1.sel(latitude=slice(latN,latS)).sel(longitude=slice(lonW,lonE))\n",
    "q = q1.sel(latitude=slice(latN,latS)).sel(longitude=slice(lonW,lonE))\n",
    "pv = pv1.sel(latitude=slice(latN,latS)).sel(longitude=slice(lonW,lonE))\n",
    "\n",
    "lat = z.latitude.values\n",
    "lon  = w.longitude.values\n",
    "\n",
    "print(z.shape)\n",
    "print(u.shape)\n",
    "print(v.shape)\n",
    "print(w.shape)\n",
    "print(t.shape)\n",
    "print(q.shape)\n",
    "print(pv.shape)\n",
    "print(msl.shape)"
   ]
  },
  {
   "cell_type": "markdown",
   "metadata": {},
   "source": [
    "# Diagnostics : module du vent, épaisseurs"
   ]
  },
  {
   "cell_type": "raw",
   "metadata": {},
   "source": [
    "Calcul du module du vent (tous niveaux)."
   ]
  },
  {
   "cell_type": "code",
   "execution_count": null,
   "metadata": {
    "scrolled": true
   },
   "outputs": [],
   "source": [
    "uv_mod=np.sqrt(u**2+v**2)\n",
    "print(np.min(uv_mod[:,lev300,:,:]))\n",
    "print(np.max(uv_mod[:,lev300,:,:]))"
   ]
  },
  {
   "cell_type": "raw",
   "metadata": {},
   "source": [
    "Calcul de l'épaisseur Z500-Z925"
   ]
  },
  {
   "cell_type": "code",
   "execution_count": null,
   "metadata": {
    "scrolled": true
   },
   "outputs": [],
   "source": [
    "dz=z.sel(level=500)-z.sel(level=925)\n",
    "print(np.min(dz))\n",
    "print(np.max(dz))"
   ]
  },
  {
   "cell_type": "markdown",
   "metadata": {},
   "source": [
    "# Diagnostics : theta, thetae, humidité relative"
   ]
  },
  {
   "cell_type": "raw",
   "metadata": {},
   "source": [
    "Tableau 4D pour les niveaux pression."
   ]
  },
  {
   "cell_type": "code",
   "execution_count": null,
   "metadata": {
    "scrolled": true
   },
   "outputs": [],
   "source": [
    "p=lev[np.newaxis,:,np.newaxis,np.newaxis]\n",
    "print(p.shape)"
   ]
  },
  {
   "cell_type": "raw",
   "metadata": {},
   "source": [
    "Calcul de la température potentielle (tous niveaux)."
   ]
  },
  {
   "cell_type": "markdown",
   "metadata": {},
   "source": [
    "$$\\theta = \\left(\\frac{P_0}{P}\\right)^\\frac{R}{C_P}$$"
   ]
  },
  {
   "cell_type": "code",
   "execution_count": null,
   "metadata": {
    "scrolled": false
   },
   "outputs": [],
   "source": [
    "theta=t*(1.E5/(p*100))**kap\n",
    "print(theta.shape)\n",
    "print(np.min(theta[:,lev850,:,:]))\n",
    "print(np.max(theta[:,lev850,:,:]))"
   ]
  },
  {
   "cell_type": "raw",
   "metadata": {},
   "source": [
    "Calcul Td à partir de T,q (tous niveaux)."
   ]
  },
  {
   "cell_type": "markdown",
   "metadata": {},
   "source": [
    "https://unidata.github.io/MetPy/latest/api/generated/metpy.calc.dewpoint_from_specific_humidity.html"
   ]
  },
  {
   "cell_type": "code",
   "execution_count": null,
   "metadata": {
    "scrolled": true
   },
   "outputs": [],
   "source": [
    "#Td = mpcalc.dewpoint_from_specific_humidity(q.values* units('kg/kg'), t.values* units.kelvin, p* units.hPa) # old Metpy\n",
    "Td = mpcalc.dewpoint_from_specific_humidity(p* units.hPa, t.values* units.kelvin, q.values* units('kg/kg'))"
   ]
  },
  {
   "cell_type": "raw",
   "metadata": {},
   "source": [
    "Calcul de l'humidité relative à partir de q (tous niveaux)."
   ]
  },
  {
   "cell_type": "markdown",
   "metadata": {},
   "source": [
    "https://unidata.github.io/MetPy/latest/api/generated/metpy.calc.relative_humidity_from_specific_humidity.html"
   ]
  },
  {
   "cell_type": "code",
   "execution_count": null,
   "metadata": {
    "scrolled": true
   },
   "outputs": [],
   "source": [
    "rh=mpcalc.relative_humidity_from_specific_humidity(p* units.hPa, t.values* units.kelvin, q.values* units('kg/kg'))"
   ]
  },
  {
   "cell_type": "raw",
   "metadata": {},
   "source": [
    "Calcul de ThetaE à partir de T, Td (tous niveaux). Tâche longue."
   ]
  },
  {
   "cell_type": "markdown",
   "metadata": {},
   "source": [
    "https://unidata.github.io/MetPy/latest/api/generated/metpy.calc.equivalent_potential_temperature.html"
   ]
  },
  {
   "cell_type": "code",
   "execution_count": null,
   "metadata": {
    "scrolled": true
   },
   "outputs": [],
   "source": [
    "thetae=mpcalc.equivalent_potential_temperature(p* units.hPa, t, Td)\n",
    "print(thetae.shape)\n",
    "print(np.min(thetae[:,lev850,:,:]))\n",
    "print(np.max(thetae[:,lev850,:,:]))"
   ]
  },
  {
   "cell_type": "markdown",
   "metadata": {},
   "source": [
    "# Diagnostics : vent géostrophique, vent agéostrophique, vent thermique"
   ]
  },
  {
   "cell_type": "raw",
   "metadata": {},
   "source": [
    "Calcul des dx et dy sur la sphère en mètres."
   ]
  },
  {
   "cell_type": "markdown",
   "metadata": {},
   "source": [
    "$$dx = a cos(\\phi)d\\lambda$$\n",
    "$$dy = a d\\phi$$"
   ]
  },
  {
   "cell_type": "code",
   "execution_count": null,
   "metadata": {
    "scrolled": true
   },
   "outputs": [],
   "source": [
    "xlon,ylat=np.meshgrid(lon,lat)\n",
    "dlony,dlonx=np.gradient(xlon)\n",
    "dlaty,dlatx=np.gradient(ylat)\n",
    "dx=re*np.cos(ylat*np.pi/180)*dlonx*np.pi/180\n",
    "dy=re*dlaty*np.pi/180\n",
    "print(dx.shape)\n",
    "print(dy.shape)"
   ]
  },
  {
   "cell_type": "raw",
   "metadata": {},
   "source": [
    "Calul de paramètre de Coriolis (2D)."
   ]
  },
  {
   "cell_type": "markdown",
   "metadata": {},
   "source": [
    "$$f = 2\\Omega sin(\\phi)$$"
   ]
  },
  {
   "cell_type": "code",
   "execution_count": null,
   "metadata": {
    "scrolled": true
   },
   "outputs": [],
   "source": [
    "f=2*omega*np.sin(ylat*np.pi/180)\n",
    "print(f.shape)"
   ]
  },
  {
   "cell_type": "raw",
   "metadata": {},
   "source": [
    "Calcul des vents géostrophique et agéostrophique."
   ]
  },
  {
   "cell_type": "markdown",
   "metadata": {},
   "source": [
    "$$u_g = -\\frac{g}{f} \\frac{\\partial z}{\\partial y}$$\n",
    "$$v_g = \\frac{g}{f} \\frac{\\partial z}{\\partial x}$$\n",
    "\n",
    "$$u_a = u - u_g$$\n",
    "$$v_a = v - v_g$$"
   ]
  },
  {
   "cell_type": "code",
   "execution_count": null,
   "metadata": {
    "scrolled": true
   },
   "outputs": [],
   "source": [
    "# calculate derivatives\n",
    "dzdx=np.gradient(z,axis=3)/dx\n",
    "dzdy=np.gradient(z,axis=2)/dy\n",
    "\n",
    "# calculate geostrophic wind\n",
    "ug=(-1)*(g/f)*dzdy\n",
    "vg=(g/f)*dzdx\n",
    "\n",
    "# calculate ageostrophic wind\n",
    "ua = u - ug\n",
    "va = v - vg"
   ]
  },
  {
   "cell_type": "raw",
   "metadata": {},
   "source": [
    "Vent thermique 925-500"
   ]
  },
  {
   "cell_type": "code",
   "execution_count": null,
   "metadata": {
    "scrolled": true
   },
   "outputs": [],
   "source": [
    "ut=ug[:,lev500,:,:]-ug[:,lev925,:,:]\n",
    "vt=vg[:,lev500,:,:]-vg[:,lev925,:,:]"
   ]
  },
  {
   "cell_type": "markdown",
   "metadata": {},
   "source": [
    "# Diagnostics : divergence, tourbillon relatif"
   ]
  },
  {
   "cell_type": "raw",
   "metadata": {},
   "source": [
    "Calcul de la divergence horizontale (tous niveaux)."
   ]
  },
  {
   "cell_type": "markdown",
   "metadata": {},
   "source": [
    "$$div(\\vec{V}_h) = \\frac{\\partial u}{\\partial x}+\\frac{\\partial v}{\\partial y}-\\frac{v}{a}tan(\\phi)$$\n",
    "$$div(\\vec{V}_a) = \\frac{\\partial u_a}{\\partial x}+\\frac{\\partial v_a}{\\partial y}-\\frac{v_a}{a}tan(\\phi)$$"
   ]
  },
  {
   "cell_type": "code",
   "execution_count": null,
   "metadata": {
    "scrolled": true
   },
   "outputs": [],
   "source": [
    "ddx_u=np.gradient(u,axis=3)/dx\n",
    "ddy_v=np.gradient(v,axis=2)/dy\n",
    "div=ddx_u+ddy_v-(v/re)*np.tan(ylat*np.pi/180)\n",
    "\n",
    "ddx_ua=np.gradient(ua,axis=3)/dx\n",
    "ddy_va=np.gradient(va,axis=2)/dy\n",
    "diva=ddx_ua+ddy_va-(va/re)*np.tan(ylat*np.pi/180)\n",
    "\n",
    "print(div.shape)\n",
    "print(np.min(div[:,lev300,:,:]))\n",
    "print(np.max(div[:,lev300,:,:]))"
   ]
  },
  {
   "cell_type": "raw",
   "metadata": {},
   "source": [
    "Calcul des tourbillons relatif et absolu (tous niveaux)."
   ]
  },
  {
   "cell_type": "markdown",
   "metadata": {},
   "source": [
    "$$\\xi = \\frac{\\partial v}{\\partial x}-\\frac{\\partial u}{\\partial y}+\\frac{u}{a}tan(\\phi)$$\n",
    "$$\\xi_a = \\xi+f$$"
   ]
  },
  {
   "cell_type": "code",
   "execution_count": null,
   "metadata": {
    "scrolled": true
   },
   "outputs": [],
   "source": [
    "ddx_v=np.gradient(v,axis=3)/dx\n",
    "ddy_u=np.gradient(u,axis=2)/dy\n",
    "vort=ddx_v-ddy_u+(u/re)*np.tan(ylat*np.pi/180)\n",
    "absvort=vort+f\n",
    "\n",
    "print(vort.shape)\n",
    "print(absvort.shape)\n",
    "print(np.min(vort[:,lev850,:,:]))\n",
    "print(np.max(vort[:,lev850,:,:]))"
   ]
  },
  {
   "cell_type": "markdown",
   "metadata": {},
   "source": [
    "# Diagnostics : tourbillon potentiel"
   ]
  },
  {
   "cell_type": "raw",
   "metadata": {},
   "source": [
    "Calcul du tourbillon potentiel (tous niveaux)."
   ]
  },
  {
   "cell_type": "markdown",
   "metadata": {},
   "source": [
    "$$PV = -g(\\xi+f)\\frac{\\partial \\theta}{\\partial P}+g\\left(\\frac{\\partial v}{\\partial P}\\frac{\\partial \\theta}{\\partial x}-\\frac{\\partial u}{\\partial P}\\frac{\\partial \\theta}{\\partial y}\\right)$$"
   ]
  },
  {
   "cell_type": "code",
   "execution_count": null,
   "metadata": {
    "scrolled": true
   },
   "outputs": [],
   "source": [
    "# calculate derivatives\n",
    "ddp_theta=np.gradient(theta,lev*100,axis=1)\n",
    "ddx_theta=np.gradient(theta,axis=3)/dx\n",
    "ddy_theta=np.gradient(theta,axis=2)/dy\n",
    "ddp_u=np.gradient(u,lev*100,axis=1)\n",
    "ddp_v=np.gradient(v,lev*100,axis=1)\n",
    "\n",
    "# calculate contributions to PV and PV\n",
    "pv_one=g*absvort*(-ddp_theta)\n",
    "pv_two=g*(ddp_v*ddx_theta-ddp_u*ddy_theta)\n",
    "pv2=pv_one+pv_two\n",
    "\n",
    "print(pv2.shape)\n",
    "print(np.min(pv2[:,lev300,:,:]))\n",
    "print(np.max(pv2[:,lev300,:,:]))"
   ]
  },
  {
   "cell_type": "markdown",
   "metadata": {},
   "source": [
    "# Diagnostics : advections de température et de tourbillon"
   ]
  },
  {
   "cell_type": "raw",
   "metadata": {},
   "source": [
    "Calcul de l'advection horizontale de température potentielle (tous niveaux)."
   ]
  },
  {
   "cell_type": "code",
   "execution_count": null,
   "metadata": {
    "scrolled": true
   },
   "outputs": [],
   "source": [
    "ddx_t=np.gradient(theta,axis=3)/dx\n",
    "ddy_t=np.gradient(theta,axis=2)/dy\n",
    "t_adv = (-1)*(u*ddx_t+v*ddy_t) *3*3600"
   ]
  },
  {
   "cell_type": "raw",
   "metadata": {},
   "source": [
    "Calcul de l'advection horizontale de tourbillon absolu (tous niveaux)."
   ]
  },
  {
   "cell_type": "code",
   "execution_count": null,
   "metadata": {
    "scrolled": true
   },
   "outputs": [],
   "source": [
    "ddx_vort=np.gradient(absvort,axis=3)/dx\n",
    "ddy_vort=np.gradient(absvort,axis=2)/dy\n",
    "vort_adv = (-1)*(u*ddx_vort+v*ddy_vort)"
   ]
  },
  {
   "cell_type": "markdown",
   "metadata": {},
   "source": [
    "# Paramètres pour les graphiques"
   ]
  },
  {
   "cell_type": "raw",
   "metadata": {},
   "source": [
    "Echelles de valeurs pour les paramètres."
   ]
  },
  {
   "cell_type": "code",
   "execution_count": null,
   "metadata": {
    "scrolled": true
   },
   "outputs": [],
   "source": [
    "levels_msl = np.arange(900,1050,2)\n",
    "levels_wind = [40, 50, 60, 70, 80, 90, 100, 110, 120]\n",
    "\n",
    "levels_z925 = np.arange(300,2000,50)\n",
    "levels_z850 = np.arange(1000,2100,50)\n",
    "levels_z700 = np.arange(2000,4100,50)\n",
    "levels_z500 = np.arange(4000,7100,50)\n",
    "levels_z300 = np.arange(8000,10100,50)\n",
    "levels_dz = np.arange(4200,5140,40)\n",
    "\n",
    "levels_wpos = np.arange(0,4.2,0.2)\n",
    "levels_wneg = np.arange(-4.2,0,0.2)\n",
    "\n",
    "levels_rh = np.arange(90,100.5,0.5)\n",
    "levels_the = np.arange(250,345,5)\n",
    "levels_th = np.arange(int(theta[:,lev850,:,:].min()),int(theta[:,lev850,:,:].max()),1)\n",
    "\n",
    "levels_vadv = np.arange(-20,22,2)\n",
    "levels_tadv = np.arange(-10,11,1)\n",
    "\n",
    "levels_vor = np.arange(5,95,5)\n",
    "levels_div = np.arange(-15,16,1)\n",
    "\n",
    "levels_ptend=np.arange(-26,26,2)\n",
    "\n",
    "wind_slice = slice(None, None, 8)"
   ]
  },
  {
   "cell_type": "raw",
   "metadata": {},
   "source": [
    "Fonction pour la détection des min max."
   ]
  },
  {
   "cell_type": "markdown",
   "metadata": {},
   "source": [
    "https://unidata.github.io/python-gallery/examples/HILO_Symbol_Plot.html"
   ]
  },
  {
   "cell_type": "code",
   "execution_count": null,
   "metadata": {
    "scrolled": true
   },
   "outputs": [],
   "source": [
    "def plot_maxmin_points(data, extrema, nsize, symbol, color='k',\n",
    "                       plotValue=True, transform=None):\n",
    "\n",
    "    if (extrema == 'max'):\n",
    "        data_ext = maximum_filter(data, nsize, mode='nearest')\n",
    "    elif (extrema == 'min'):\n",
    "        data_ext = minimum_filter(data, nsize, mode='nearest')\n",
    "    else:\n",
    "        raise ValueError('Value for hilo must be either max or min')\n",
    "\n",
    "    mxy, mxx = np.where(data_ext == data)\n",
    "\n",
    "    for i in range(len(mxy)):\n",
    "        ax.text(data.longitude[mxx[i]].values, data.latitude[mxy[i]].values, symbol, color=color, size=12,\n",
    "                clip_on=True, horizontalalignment='center', verticalalignment='center',\n",
    "                transform=transform)\n",
    "        ax.text(data.longitude[mxx[i]].values, data.latitude[mxy[i]].values,\n",
    "                '\\n' + str(int(data[mxy[i], mxx[i]])),\n",
    "                color=color, size=10, clip_on=True, fontweight='bold',\n",
    "                horizontalalignment='center', verticalalignment='top', transform=transform)"
   ]
  },
  {
   "cell_type": "raw",
   "metadata": {},
   "source": [
    "Fonction pour calcul des distances sur la sphère."
   ]
  },
  {
   "cell_type": "code",
   "execution_count": null,
   "metadata": {
    "scrolled": true
   },
   "outputs": [],
   "source": [
    "def haversine(lon1, lat1, lon2, lat2):\n",
    "    # convert decimal degrees to radians \n",
    "    lon1 = np.deg2rad(lon1)\n",
    "    lon2 = np.deg2rad(lon2)\n",
    "    lat1 = np.deg2rad(lat1)\n",
    "    lat2 = np.deg2rad(lat2)\n",
    "\n",
    "    # haversine formula \n",
    "    dlon = lon2 - lon1 \n",
    "    dlat = lat2 - lat1 \n",
    "    a = np.sin(dlat/2)**2 + np.cos(lat1) * np.cos(lat2) * np.sin(dlon/2)**2\n",
    "    c = 2 * np.arcsin(np.sqrt(a)) \n",
    "    r = 6371\n",
    "    return c * r"
   ]
  },
  {
   "cell_type": "raw",
   "metadata": {},
   "source": [
    "Fonction pour les fonds de carte."
   ]
  },
  {
   "cell_type": "code",
   "execution_count": null,
   "metadata": {
    "scrolled": true
   },
   "outputs": [],
   "source": [
    "projection = ccrs.PlateCarree()\n",
    "\n",
    "coast = cfeature.NaturalEarthFeature(category='physical', scale='10m',\n",
    "                            facecolor='none', name='coastline')\n",
    "def plot_background(ax):\n",
    "    ax.set_xticks(np.linspace(-180, 180, 37), crs=projection)\n",
    "    ax.set_yticks(np.linspace(-90, 90, 19), crs=projection)\n",
    "    lon_formatter = LongitudeFormatter(zero_direction_label=True)\n",
    "    lat_formatter = LatitudeFormatter()\n",
    "    ax.xaxis.set_major_formatter(lon_formatter)\n",
    "    ax.yaxis.set_major_formatter(lat_formatter)\n",
    "    ax.add_feature(coast, edgecolor='gray')\n",
    "    return ax"
   ]
  },
  {
   "cell_type": "raw",
   "metadata": {},
   "source": [
    "Fonctions de création d'une animation à partir des png présents dans le dossier anim."
   ]
  },
  {
   "cell_type": "code",
   "execution_count": null,
   "metadata": {
    "scrolled": false
   },
   "outputs": [],
   "source": [
    "def make_animation():\n",
    "    nbimages=len(time)\n",
    "    # create a tuple of display durations, one for each frame\n",
    "    first_last = 1000 #show the first and last frames for 100 ms\n",
    "    standard_duration = 1000 #show all other frames for 5 ms\n",
    "    durations = tuple([first_last] + [standard_duration] * (nbimages - 2) + [first_last])\n",
    "    # load all the static images into a list\n",
    "    images = [Image.open(image) for image in sorted(glob.glob('{}/*.png'.format('./anim/')))]\n",
    "    # save as an animated gif\n",
    "    gif = images[0]\n",
    "    gif.info['duration'] = durations #ms per frame\n",
    "    gif.info['loop'] = 0 #how many times to loop (0=infinite)\n",
    "    gif.save(fp=gif_filepath, format='gif', save_all=True, append_images=images[1:])\n",
    "    # verify that the number of frames in the gif equals the number of image files and durations\n",
    "    Image.open(gif_filepath).n_frames == len(images) == len(durations)\n",
    "    # clean png\n",
    "    os.chdir(\"./anim/\")\n",
    "    for f in glob.glob(\"*.png\"):\n",
    "        os.remove(f)\n",
    "    os.chdir(\"../\")\n",
    "    return Image\n",
    "\n",
    "def make_animation2():\n",
    "    nbimages=len(time)-1\n",
    "    # create a tuple of display durations, one for each frame\n",
    "    first_last = 1000 #show the first and last frames for 100 ms\n",
    "    standard_duration = 1000 #show all other frames for 5 ms\n",
    "    durations = tuple([first_last] + [standard_duration] * (nbimages - 2) + [first_last])\n",
    "    # load all the static images into a list\n",
    "    images = [Image.open(image) for image in sorted(glob.glob('{}/*.png'.format('./anim/')))]\n",
    "    # save as an animated gif\n",
    "    gif = images[0]\n",
    "    gif.info['duration'] = durations #ms per frame\n",
    "    gif.info['loop'] = 0 #how many times to loop (0=infinite)\n",
    "    gif.save(fp=gif_filepath, format='gif', save_all=True, append_images=images[1:])\n",
    "    # verify that the number of frames in the gif equals the number of image files and durations\n",
    "    Image.open(gif_filepath).n_frames == len(images) == len(durations)\n",
    "    # clean png\n",
    "    os.chdir(\"./anim/\")\n",
    "    for f in glob.glob(\"*.png\"):\n",
    "        os.remove(f)\n",
    "    os.chdir(\"../\")\n",
    "    return Image"
   ]
  },
  {
   "cell_type": "markdown",
   "metadata": {},
   "source": [
    "# Cartes de visualisation de la situation"
   ]
  },
  {
   "cell_type": "raw",
   "metadata": {},
   "source": [
    "Domaine."
   ]
  },
  {
   "cell_type": "code",
   "execution_count": null,
   "metadata": {
    "scrolled": false
   },
   "outputs": [],
   "source": [
    "bounds = [(lonW, lonE, latS, latN)]"
   ]
  },
  {
   "cell_type": "raw",
   "metadata": {},
   "source": [
    "Pression réduite au niveau de la mer et tendance de pression en 6h (animation)."
   ]
  },
  {
   "cell_type": "code",
   "execution_count": null,
   "metadata": {
    "scrolled": false
   },
   "outputs": [],
   "source": [
    "for i in range(1,len(time)):\n",
    "    #print(date_str[i])\n",
    "    fig = plt.figure(figsize=(17., 10.))\n",
    "    ax = fig.add_subplot(1, 1, 1, projection=projection)\n",
    "    ax.set_title('Mean Sea Level Pressure (hPa) and pressure tendency (hPa/6h)', loc='left', fontsize=14)\n",
    "    ax.set_title(date_str[i], loc='right', fontsize=14)\n",
    "    plot_background(ax)\n",
    "    ax.set_extent(*bounds, crs=ccrs.PlateCarree())\n",
    "    \n",
    "    c = ax.contour(lon, lat, msl[i,:,:], levels_msl, colors='black', linewidths=1, transform=ccrs.PlateCarree())\n",
    "    cf = ax.contourf(lon, lat, msl[i,:,:]-msl[i-1,:,:], levels=levels_ptend, extend='both',\n",
    "                     cmap='bwr', transform=ccrs.PlateCarree())\n",
    "    cb = fig.colorbar(cf, orientation='horizontal', aspect=65, shrink=0.5, pad=0.05, extendrect='True')\n",
    "\n",
    "    cb.set_label('hPa/6h')\n",
    "    plot_maxmin_points(msl[i,:,:], 'max', 25, symbol='H', color='r',  transform=ccrs.PlateCarree())\n",
    "    plot_maxmin_points(msl[i,:,:], 'min', 25, symbol='L', color='b', transform=ccrs.PlateCarree())\n",
    "    ax.clabel(c,fmt='%4.1i', fontsize=10)\n",
    "    h,_ = c.legend_elements()\n",
    "    ax.legend([h[0]], ['MSLP'], loc='lower right')\n",
    "    \n",
    "    figname='./anim/ECMWF_MSLP_Ptend_'+date_str[i]\n",
    "    plt.savefig(figname+'.png',bbox_inches='tight')\n",
    "    \n",
    "    plt.show()\n",
    "    plt.close()\n",
    "\n",
    "gif_filepath = './anim/ECMWF_MSLP_Ptend_'+date1+'-'+date2+'.gif'\n",
    "make_animation2()\n",
    "IPdisplay.Image(url=gif_filepath)"
   ]
  },
  {
   "cell_type": "raw",
   "metadata": {},
   "source": [
    "Pression réduite au niveau de la mer et module du vent à 300 hPa (animation)."
   ]
  },
  {
   "cell_type": "code",
   "execution_count": null,
   "metadata": {
    "scrolled": false
   },
   "outputs": [],
   "source": [
    "projection = ccrs.PlateCarree()\n",
    "bounds = [(lonW, lonE, latS, latN)]\n",
    "\n",
    "for i in range(len(time)):\n",
    "    #print(date_str[i])\n",
    "    fig = plt.figure(figsize=(17., 10.))\n",
    "    ax = fig.add_subplot(1, 1, 1, projection=projection)\n",
    "    ax.set_title('Mean Sea Level Pressure (hPa) and wind module (m/s) at 300 hPa', loc='left', fontsize=14)\n",
    "    ax.set_title(date_str[i], loc='right', fontsize=14)\n",
    "    plot_background(ax)\n",
    "    ax.set_extent(*bounds, crs=ccrs.PlateCarree())\n",
    "    \n",
    "    cf = ax.contourf(lon, lat, uv_mod[i,lev300,:,:], levels_wind, transform=ccrs.PlateCarree(),\n",
    "                     cmap='Spectral_r', extend='max')\n",
    "    c = ax.contour(lon, lat, msl[i,:,:], levels_msl, colors='black', linewidths=1, transform=ccrs.PlateCarree())\n",
    "    cb = fig.colorbar(cf, orientation='horizontal', aspect=65, shrink=0.5, pad=0.05, extendrect='True')\n",
    "    cb.set_label('m/s')\n",
    "    plot_maxmin_points(msl[i,:,:], 'max', 25, symbol='H', color='r',  transform=ccrs.PlateCarree())\n",
    "    plot_maxmin_points(msl[i,:,:], 'min', 25, symbol='L', color='b', transform=ccrs.PlateCarree())\n",
    "    ax.clabel(c,fmt='%4.1i', fontsize=10)\n",
    "    h,_ = c.legend_elements()\n",
    "    ax.legend([h[0]], ['MSLP'], loc='lower right')\n",
    "    \n",
    "    figname='./anim/ECMWF_MSLP_VMOD300_'+date_str[i]\n",
    "    plt.savefig(figname+'.png',bbox_inches='tight')\n",
    "    \n",
    "    plt.show()\n",
    "    plt.close()\n",
    "\n",
    "gif_filepath = './anim/ECMWF_MSLP_VMOD300_'+date1+'-'+date2+'.gif'\n",
    "make_animation()\n",
    "IPdisplay.Image(url=gif_filepath)"
   ]
  },
  {
   "cell_type": "raw",
   "metadata": {},
   "source": [
    "Géopotentiel et vent à 925hPa et température potentielle équivalente à 850hPa (animation)."
   ]
  },
  {
   "cell_type": "code",
   "execution_count": null,
   "metadata": {
    "scrolled": false
   },
   "outputs": [],
   "source": [
    "projection = ccrs.PlateCarree()\n",
    "bounds = [(lonW, lonE, latS, latN)]\n",
    "\n",
    "for i in range(len(time)):\n",
    "    #print(date_str[i])\n",
    "    fig = plt.figure(figsize=(17., 10.))\n",
    "    ax = fig.add_subplot(1, 1, 1, projection=projection)\n",
    "    ax.set_title('Geopotential height (mgp) and winds (kt) at 925 hPa, equivalent potential temperature (K) at 850 hPa',\n",
    "                 loc='left', fontsize=14)\n",
    "    ax.set_title(date_str[i], loc='right', fontsize=14)\n",
    "    plot_background(ax)\n",
    "    ax.set_extent(*bounds, crs=ccrs.PlateCarree())\n",
    "    \n",
    "    cf = ax.contourf(lon, lat, thetae[i,lev850,:,:], levels_the, transform=ccrs.PlateCarree(),\n",
    "                     cmap='jet', extend='both')\n",
    "    cb = fig.colorbar(cf, orientation='horizontal', aspect=65, shrink=0.5, pad=0.05, extendrect='True')\n",
    "    cb.set_label('K')\n",
    "    c = ax.contour(lon, lat, z[i,lev925,:,:], levels_z925, colors='black', linewidths=1, transform=ccrs.PlateCarree())\n",
    "    ax.clabel(c,fmt='%4.1i', fontsize=10)\n",
    "    h,_ = c.legend_elements()\n",
    "    ax.legend([h[0]], ['Z925hPa'], loc='lower right')\n",
    "    plot_maxmin_points(z[i,lev925,:,:], 'max', 25, symbol='H', color='r',  transform=ccrs.PlateCarree())\n",
    "    plot_maxmin_points(z[i,lev925,:,:], 'min', 25, symbol='L', color='b', transform=ccrs.PlateCarree())\n",
    "    \n",
    "    ax.barbs(lon[wind_slice], lat[wind_slice],\n",
    "         u[i,lev925][wind_slice, wind_slice],\n",
    "         v[i,lev925][wind_slice, wind_slice], pivot='middle',\n",
    "         color='red', length=6.5, transform=ccrs.PlateCarree())\n",
    "    \n",
    "    figname='./anim/ECMWF_ZUV925_Thetae850_'+date_str[i]\n",
    "    plt.savefig(figname+'.png',bbox_inches='tight')\n",
    "    \n",
    "    plt.show()\n",
    "    plt.close()\n",
    "    \n",
    "gif_filepath = './anim/ECMWF_ZUV925_Thetae850_'+date1+'-'+date2+'.gif'\n",
    "make_animation()\n",
    "IPdisplay.Image(url=gif_filepath)"
   ]
  },
  {
   "cell_type": "raw",
   "metadata": {},
   "source": [
    "Géopotentiel et tourbillon relatif cyclonique à 925 hPa température potentielle équivalente à 850 hPa (animation)."
   ]
  },
  {
   "cell_type": "code",
   "execution_count": null,
   "metadata": {
    "scrolled": false
   },
   "outputs": [],
   "source": [
    "projection = ccrs.PlateCarree()\n",
    "bounds = [(lonW, lonE, latS, latN)]\n",
    "\n",
    "for i in range(len(time)):\n",
    "    #print(date_str[i])\n",
    "    fig = plt.figure(figsize=(17., 10.))\n",
    "    ax = fig.add_subplot(1, 1, 1, projection=projection)\n",
    "    ax.set_title('Equivalent potential temperature (K) at 850 hPa, geopotential (mgp) and cyclonic relative vorticity (10$^{-5}$ s$^{-1}$) at 925 hPa',\n",
    "                 loc='left', fontsize=14)\n",
    "    ax.set_title(date_str[i], loc='right', fontsize=14)\n",
    "    plot_background(ax)\n",
    "    ax.set_extent(*bounds, crs=ccrs.PlateCarree())\n",
    "    \n",
    "    cf = ax.contourf(lon, lat, thetae[i,lev850,:,:], levels_the, transform=ccrs.PlateCarree(),\n",
    "                     cmap='jet', extend='both')\n",
    "    cb = fig.colorbar(cf, orientation='horizontal', aspect=65, shrink=0.5, pad=0.05, extendrect='True')\n",
    "    cb.set_label('K')\n",
    "    \n",
    "    c1 = ax.contour(lon, lat, z[i,lev925,:,:], levels_z925, colors='black', linewidths=1, transform=ccrs.PlateCarree())\n",
    "    c2 = ax.contour(lon, lat, vort[i,lev925,:,:]*10**5, levels_vor, colors='green', transform=ccrs.PlateCarree(),\n",
    "                    linewidths=1)                  \n",
    "    ax.clabel(c1, fmt='%4.1i', fontsize=10)\n",
    "    ax.clabel(c2, fmt='%4.1i', fontsize=10)\n",
    "    \n",
    "    h1,_ = c1.legend_elements()\n",
    "    h2,_ = c2.legend_elements()    \n",
    "    ax.legend([h1[0], h2[0]], ['Z925', 'vort925'], loc='lower right')\n",
    "    \n",
    "    figname='./anim/ECMWF_Zvort925_Thetae850_'+date_str[i]\n",
    "    plt.savefig(figname+'.png',bbox_inches='tight')\n",
    "    \n",
    "    plt.show()\n",
    "    plt.close()\n",
    "\n",
    "gif_filepath = './anim/ECMWF_Zvort925_Thetae850_'+date1+'-'+date2+'.gif'\n",
    "make_animation()\n",
    "IPdisplay.Image(url=gif_filepath)"
   ]
  },
  {
   "cell_type": "markdown",
   "metadata": {},
   "source": [
    "# Vent thermique et advection thermique"
   ]
  },
  {
   "cell_type": "raw",
   "metadata": {},
   "source": [
    "Dates et domaine."
   ]
  },
  {
   "cell_type": "code",
   "execution_count": null,
   "metadata": {
    "scrolled": false
   },
   "outputs": [],
   "source": [
    "date_selection=\"2014-01-26T00\"\n",
    "itime = date_str.index(date_selection)\n",
    "bounds = [(-40, 0, 40, 65)]"
   ]
  },
  {
   "cell_type": "raw",
   "metadata": {},
   "source": [
    "Cartes de géopotentiel à 925hPa et 500hPa."
   ]
  },
  {
   "cell_type": "code",
   "execution_count": null,
   "metadata": {
    "scrolled": false
   },
   "outputs": [],
   "source": [
    "fig = plt.figure(figsize=(17., 10.))\n",
    "ax = fig.add_subplot(1, 1, 1, projection=projection)\n",
    "ax.set_title('Geopotential heights ', fontsize=14)\n",
    "ax.set_title(date_selection, loc='right', fontsize=14)\n",
    "plot_background(ax)\n",
    "ax.set_extent(*bounds, crs=ccrs.PlateCarree())\n",
    "   \n",
    "c1 = ax.contour(lon, lat, z[itime,lev925,:,:], levels_z925, colors='black', linewidths=1, transform=ccrs.PlateCarree())\n",
    "c2 = ax.contour(lon, lat, z[itime,lev500,:,:], levels_z500, colors='blue', linewidths=1, transform=ccrs.PlateCarree())\n",
    "ax.clabel(c1,fmt='%4.1i', fontsize=10)\n",
    "ax.clabel(c2,fmt='%4.1i', fontsize=10)\n",
    "\n",
    "h1,_ = c1.legend_elements()\n",
    "h2,_ = c2.legend_elements()\n",
    "ax.legend([h1[0], h2[0]], ['Z925', 'Z500'], loc='lower right')\n",
    "\n",
    "figname='./figs/ECMWF_thermal_wind0_'+date_selection\n",
    "plt.savefig(figname+'.png')\n",
    "\n",
    "plt.show()"
   ]
  },
  {
   "cell_type": "raw",
   "metadata": {},
   "source": [
    "Cartes de géopotentiel et vent géostrophique à 925hPa et 500hPa."
   ]
  },
  {
   "cell_type": "code",
   "execution_count": null,
   "metadata": {
    "scrolled": false
   },
   "outputs": [],
   "source": [
    "fig = plt.figure(figsize=(17., 10.))\n",
    "ax = fig.add_subplot(1, 1, 1, projection=projection)\n",
    "ax.set_title('Geopotential heights and geostrophic winds', fontsize=14)\n",
    "ax.set_title(date_selection, loc='right', fontsize=14)\n",
    "plot_background(ax)\n",
    "ax.set_extent(*bounds, crs=ccrs.PlateCarree())\n",
    "   \n",
    "c1 = ax.contour(lon, lat, z[itime,lev925,:,:], levels_z925, colors='black', linewidths=1, transform=ccrs.PlateCarree())\n",
    "c2 = ax.contour(lon, lat, z[itime,lev500,:,:], levels_z500, colors='blue', linewidths=1, transform=ccrs.PlateCarree())\n",
    "ax.clabel(c1,fmt='%4.1i', fontsize=10)\n",
    "ax.clabel(c2,fmt='%4.1i', fontsize=10)\n",
    "\n",
    "ax.barbs(lon[wind_slice], lat[wind_slice],\n",
    "         ug[itime,lev925,:,:][wind_slice, wind_slice],\n",
    "         vg[itime,lev925,:,:][wind_slice, wind_slice], pivot='middle',\n",
    "         color='k', length=6.5, transform=ccrs.PlateCarree())\n",
    "\n",
    "ax.barbs(lon[wind_slice], lat[wind_slice],\n",
    "         ug[itime,lev500,:,:][wind_slice, wind_slice],\n",
    "         vg[itime,lev500,:,:][wind_slice, wind_slice], pivot='middle',\n",
    "         color='blue', length=6.5, transform=ccrs.PlateCarree())\n",
    "\n",
    "h1,_ = c1.legend_elements()\n",
    "h2,_ = c2.legend_elements()\n",
    "ax.legend([h1[0], h2[0]], ['Z925', 'Z500'], loc='lower right')\n",
    "\n",
    "figname='./figs/ECMWF_thermal_wind1_'+date_selection\n",
    "plt.savefig(figname+'.png')\n",
    "\n",
    "plt.show()"
   ]
  },
  {
   "cell_type": "raw",
   "metadata": {},
   "source": [
    "Cartes de géopotentiel à 925hPa et 500hPa + épaisseurs et vent thermique 925-500hPa."
   ]
  },
  {
   "cell_type": "code",
   "execution_count": null,
   "metadata": {
    "scrolled": false
   },
   "outputs": [],
   "source": [
    "fig = plt.figure(figsize=(15., 12.))\n",
    "ax = fig.add_subplot(1, 1, 1, projection=projection)\n",
    "ax.set_title('Geopotential heights and thermal wind', fontsize=14)\n",
    "ax.set_title(date_selection, loc='right', fontsize=14)\n",
    "plot_background(ax)\n",
    "ax.set_extent(*bounds, crs=ccrs.PlateCarree())\n",
    "   \n",
    "c1 = ax.contour(lon, lat, z[itime,lev925,:,:], levels_z925, colors='black', linewidths=1, transform=ccrs.PlateCarree())\n",
    "c2 = ax.contour(lon, lat, z[itime,lev500,:,:], levels_z500, colors='blue', linewidths=1, transform=ccrs.PlateCarree())\n",
    "c3 = ax.contour(lon, lat, dz[itime,:,:], levels_dz, colors='red', linewidths=1, transform=ccrs.PlateCarree())\n",
    "ax.clabel(c1,fmt='%4.1i', fontsize=10)\n",
    "ax.clabel(c2,fmt='%4.1i', fontsize=10)\n",
    "ax.clabel(c3,fmt='%4.1i', fontsize=10)\n",
    "\n",
    "ax.barbs(lon[wind_slice], lat[wind_slice],\n",
    "         ut[itime,:,:][wind_slice, wind_slice],\n",
    "         vt[itime,:,:][wind_slice, wind_slice], pivot='middle',\n",
    "         color='red', length=6.5, transform=ccrs.PlateCarree())\n",
    "\n",
    "h1,_ = c1.legend_elements()\n",
    "h2,_ = c2.legend_elements()\n",
    "h3,_ = c3.legend_elements()\n",
    "ax.legend([h1[0], h2[0], h3[0]], ['Z925', 'Z500', 'Z500 - Z925'],\n",
    "          loc='lower right')\n",
    "\n",
    "figname='./figs/ECMWF_thermal_wind2_'+date_selection\n",
    "plt.savefig(figname+'.png')\n",
    "\n",
    "plt.show()"
   ]
  },
  {
   "cell_type": "raw",
   "metadata": {},
   "source": [
    "Carte de géopotentiel, température potentielle et vent horizontal à 850hPa."
   ]
  },
  {
   "cell_type": "code",
   "execution_count": null,
   "metadata": {
    "scrolled": false
   },
   "outputs": [],
   "source": [
    "fig = plt.figure(figsize=(15., 12.))\n",
    "ax = fig.add_subplot(1, 1, 1, projection=projection)\n",
    "ax.set_title('Geopotential height, potential temperature and horizontal wind at 850 hPa', fontsize=14)\n",
    "ax.set_title(date_selection, loc='right', fontsize=14)\n",
    "plot_background(ax)\n",
    "ax.set_extent(*bounds, crs=ccrs.PlateCarree())\n",
    "\n",
    "cf = ax.contourf(lon, lat, theta[itime,lev850,:,:], levels_th, transform=ccrs.PlateCarree(), cmap='jet', extend='both')\n",
    "cb = fig.colorbar(cf, orientation='horizontal', aspect=65, shrink=0.5, pad=0.05, extendrect='True')\n",
    "cb.set_label('Potential temperature (K)')\n",
    " \n",
    "c2 = ax.contour(lon, lat, theta[itime,lev850,:,:], levels_th, transform=ccrs.PlateCarree(),\n",
    "                colors='blue', linewidths=1, linestyles='--')                 \n",
    "c3 = ax.contour(lon, lat, z[itime,lev850,:,:], levels_z850, colors='black', linewidths=1, transform=ccrs.PlateCarree())\n",
    "ax.clabel(c3,fmt='%4.1i', fontsize=10)\n",
    "\n",
    "h2,_ = c2.legend_elements()\n",
    "h3,_ = c3.legend_elements()\n",
    "ax.legend([h2[0], h3[0]], [r'$\\theta$850', 'Z850'], loc='lower right')\n",
    "\n",
    "ax.barbs(lon[wind_slice], lat[wind_slice],\n",
    "         u[itime,lev850,:,:][wind_slice, wind_slice],\n",
    "         v[itime,lev850,:,:][wind_slice, wind_slice], pivot='middle',\n",
    "         color='red', length=6.5, transform=ccrs.PlateCarree())\n",
    "\n",
    "figname='./figs/ECMWF_thermal_wind3_'+date_selection\n",
    "plt.savefig(figname+'.png')\n",
    "\n",
    "plt.show()"
   ]
  },
  {
   "cell_type": "raw",
   "metadata": {},
   "source": [
    "Carte de géopotentiel, température potentielle et advection de température à 850hPa."
   ]
  },
  {
   "cell_type": "code",
   "execution_count": null,
   "metadata": {
    "scrolled": false
   },
   "outputs": [],
   "source": [
    "fig = plt.figure(figsize=(15., 12.))\n",
    "ax = fig.add_subplot(1, 1, 1, projection=projection)\n",
    "ax.set_title('Geopotential heigh, potential temperature and temperature advection at 850 hPa', fontsize=14)\n",
    "ax.set_title(date_selection, loc='right', fontsize=14)\n",
    "plot_background(ax)\n",
    "ax.set_extent(*bounds, crs=ccrs.PlateCarree())\n",
    "\n",
    "cf = ax.contourf(lon, lat, t_adv[itime,lev850,:,:], levels_tadv[levels_tadv != 0], extend='both',\n",
    "                 cmap='bwr', transform=ccrs.PlateCarree())\n",
    "cb = fig.colorbar(cf, orientation='horizontal', aspect=65, shrink=0.5, pad=0.05, extendrect='True')\n",
    "cb.set_label('Temperature advection (K/3h)')\n",
    "\n",
    "c2 = ax.contour(lon, lat, theta[itime,lev850,:,:], levels_th, transform=ccrs.PlateCarree(),\n",
    "                colors='blue', linewidths=1, linestyles='--')                  \n",
    "c3 = ax.contour(lon, lat, z[itime,lev850,:,:], levels_z850, colors='black', linewidths=1, transform=ccrs.PlateCarree())\n",
    "ax.clabel(c2,fmt='%4.1i', fontsize=10)\n",
    "ax.clabel(c3,fmt='%4.1i', fontsize=10)\n",
    "\n",
    "h2,_ = c2.legend_elements()\n",
    "h3,_ = c3.legend_elements()\n",
    "ax.legend([h2[0], h3[0]], [r'$\\theta$850', 'Z850'], loc='lower right')\n",
    "\n",
    "figname='./figs/ECMWF_thermal_wind4_'+date_selection\n",
    "plt.savefig(figname+'.png')\n",
    "\n",
    "plt.show()"
   ]
  },
  {
   "cell_type": "markdown",
   "metadata": {},
   "source": [
    "# Tourbillon / Circulation"
   ]
  },
  {
   "cell_type": "raw",
   "metadata": {},
   "source": [
    "Cartes de géopotentiel et tourbillon relatif à 925hPa."
   ]
  },
  {
   "cell_type": "code",
   "execution_count": null,
   "metadata": {
    "scrolled": false
   },
   "outputs": [],
   "source": [
    "fig = plt.figure(figsize=(15., 12.))\n",
    "ax = fig.add_subplot(1, 1, 1, projection=projection)\n",
    "ax.set_title('Geopotential height and relative vorticity at 925 hPa', loc='right', fontsize=14)\n",
    "ax.set_title(date_selection, loc='right', fontsize=14)\n",
    "plot_background(ax)\n",
    "ax.set_extent(*bounds, crs=ccrs.PlateCarree())\n",
    "   \n",
    "c1 = ax.contour(lon, lat, z[itime,lev925,:,:], levels_z925, colors='black', linewidths=1, transform=ccrs.PlateCarree())\n",
    "cf=ax.contourf(lon, lat, vort[itime,lev925,:,:]*10**5, levels_vor, transform=ccrs.PlateCarree(), cmap='Spectral_r', extend='max')\n",
    "ax.clabel(c1,fmt='%4.1i', fontsize=10)\n",
    "cb = fig.colorbar(cf, orientation='horizontal', aspect=65, shrink=0.5, pad=0.05, extendrect='True')\n",
    "cb.set_label('Relative vortiticy $(10^5 s^{-1}$)')\n",
    "\n",
    "h1,_ = c1.legend_elements()\n",
    "ax.legend([h1[0]], ['Z925'], loc='lower right')\n",
    "\n",
    "figname='./figs/ECMWF_vort925_'+date_str[itime]\n",
    "plt.savefig(figname+'.png')\n",
    "\n",
    "plt.show()"
   ]
  },
  {
   "cell_type": "raw",
   "metadata": {},
   "source": [
    "Découpage dans un rayon de 500km autour de la dépression."
   ]
  },
  {
   "cell_type": "code",
   "execution_count": null,
   "metadata": {
    "scrolled": false
   },
   "outputs": [],
   "source": [
    "max_dist=500\n",
    "# Center coordinates\n",
    "clat = 55.5\n",
    "clon = -23\n",
    "# Calculate distance between center and all other lat/lon pairs\n",
    "distance = haversine(lon[:,np.newaxis], lat, clon, clat)\n",
    "distance2=np.transpose(distance)\n",
    "# Mask distance array where distance > max_dist\n",
    "distance_m = np.ma.masked_greater(distance2, max_dist)\n",
    "# Mask the data array based on the distance mask\n",
    "vort_m = np.ma.masked_where(distance2 > max_dist, vort[itime,lev925,:,:])\n",
    "z_m = np.ma.masked_where(distance2 > max_dist, z[itime,lev925,:,:])\n",
    "\n",
    "vort_mean=np.nanmean(vort_m)\n",
    "circulation=vort_mean*np.pi*(max_dist*1000)**2"
   ]
  },
  {
   "cell_type": "raw",
   "metadata": {},
   "source": [
    "Cartes de géopotentiel et tourbillon relatif à 925hPa."
   ]
  },
  {
   "cell_type": "code",
   "execution_count": null,
   "metadata": {
    "scrolled": false
   },
   "outputs": [],
   "source": [
    "print('Tourbillon relatif moyen dans la zone choisie (s⁻¹) : ', np.array(\"%e\"%vort_mean))\n",
    "print('Circulation associée (m²s⁻¹,) : ', \"%e\"%circulation)\n",
    "\n",
    "fig = plt.figure(figsize=(15., 12.))\n",
    "ax = fig.add_subplot(1, 1, 1, projection=projection)\n",
    "ax.set_title('Geopotential height and relative vorticity at 925 hPa', loc='right', fontsize=14)\n",
    "ax.set_title(date_selection, loc='right', fontsize=14)\n",
    "plot_background(ax)\n",
    "ax.gridlines()\n",
    "ax.set_extent(*bounds, crs=ccrs.PlateCarree())\n",
    "#ax.scatter(clon,clat, color='g', transform=ccrs.PlateCarree())\n",
    "         \n",
    "c1 = ax.contour(lon, lat, z_m, levels_z925, colors='black', linewidths=1, transform=ccrs.PlateCarree())\n",
    "cf=ax.contourf(lon, lat, vort_m*10**5, levels_vor, transform=ccrs.PlateCarree(), cmap='Spectral_r', extend='max')\n",
    "ax.clabel(c1,fmt='%4.1i', fontsize=10)\n",
    "cb = fig.colorbar(cf, orientation='horizontal', aspect=65, shrink=0.5, pad=0.05, extendrect='True')\n",
    "cb.set_label('Relative vortiticy $(10^5 s^{-1}$)')\n",
    "\n",
    "h1,_ = c1.legend_elements()\n",
    "ax.legend([h1[0]], ['Z925'], loc='lower right')\n",
    "\n",
    "figname='./figs/ECMWF_vort925_zoom_'+date_str[itime]\n",
    "plt.savefig(figname+'.png')\n",
    "\n",
    "plt.show()"
   ]
  },
  {
   "cell_type": "markdown",
   "metadata": {},
   "source": [
    "# Vent agéostrophique et vitesses verticales"
   ]
  },
  {
   "cell_type": "raw",
   "metadata": {},
   "source": [
    "Dates et domaine."
   ]
  },
  {
   "cell_type": "code",
   "execution_count": null,
   "metadata": {
    "scrolled": false
   },
   "outputs": [],
   "source": [
    "date_selection=\"2014-01-26T00\"\n",
    "itime = date_str.index(date_selection)\n",
    "bounds = [(-40, 0, 40, 65)]"
   ]
  },
  {
   "cell_type": "raw",
   "metadata": {},
   "source": [
    "Géopotentiel et vent horizontal à 925 hPa, tendance de pression en 6h."
   ]
  },
  {
   "cell_type": "code",
   "execution_count": null,
   "metadata": {
    "scrolled": false
   },
   "outputs": [],
   "source": [
    "fig = plt.figure(figsize=(15., 12.))\n",
    "ax = fig.add_subplot(1, 1, 1, projection=projection)\n",
    "ax.set_title('Geopotential height (mgp) and and horizontal wind at 925 hPa, MSLP tendency (hPa/6h)', loc='left', fontsize=14)\n",
    "ax.set_title(date_str[itime], loc='right', fontsize=14)\n",
    "plot_background(ax)\n",
    "ax.set_extent(*bounds, crs=ccrs.PlateCarree())\n",
    "    \n",
    "c1 = ax.contour(lon, lat, z[itime,lev925,:,:], levels_z925, colors='black', linewidths=1,\n",
    "                transform=ccrs.PlateCarree())\n",
    "ax.clabel(c1,fmt='%4.1i', fontsize=10)\n",
    "\n",
    "cf = ax.contourf(lon, lat, msl[itime,:,:]-msl[itime-1,:,:], levels=levels_ptend, extend='both',\n",
    "                 cmap='bwr', transform=ccrs.PlateCarree())\n",
    "cb = fig.colorbar(cf, orientation='horizontal', aspect=65, shrink=0.5, pad=0.05, extendrect='True')\n",
    "cb.set_label('hPa/6h')\n",
    "\n",
    "ax.barbs(lon[wind_slice], lat[wind_slice],\n",
    "         u[itime,lev925][wind_slice, wind_slice],\n",
    "         v[itime,lev925][wind_slice, wind_slice], pivot='middle',\n",
    "         color='green', length=6.5, transform=ccrs.PlateCarree())\n",
    "\n",
    "plot_maxmin_points(msl[itime,:,:], 'max', 25, symbol='H', color='r',  transform=ccrs.PlateCarree())\n",
    "plot_maxmin_points(msl[itime,:,:], 'min', 25, symbol='L', color='b', transform=ccrs.PlateCarree())\n",
    "\n",
    "h,_ = c1.legend_elements()\n",
    "ax.legend([h[0]], ['Z925'], loc='lower right')\n",
    "    \n",
    "figname='./figs/ECMWF_ZVh925_Ptend_'+date_str[itime]\n",
    "plt.savefig(figname+'.png',bbox_inches='tight')\n",
    "    \n",
    "plt.show()"
   ]
  },
  {
   "cell_type": "raw",
   "metadata": {},
   "source": [
    "Géopotentiel et vent agéostrophique à 925 hPa, tendance de pression en 6h."
   ]
  },
  {
   "cell_type": "code",
   "execution_count": null,
   "metadata": {
    "scrolled": false
   },
   "outputs": [],
   "source": [
    "fig = plt.figure(figsize=(15., 12.))\n",
    "ax = fig.add_subplot(1, 1, 1, projection=projection)\n",
    "ax.set_title('Geopotential height (mgp) and and ageostrophic wind at 925 hPa, MSLP tendency (hPa/6h)', loc='left', fontsize=14)\n",
    "ax.set_title(date_str[itime], loc='right', fontsize=14)\n",
    "plot_background(ax)\n",
    "ax.set_extent(*bounds, crs=ccrs.PlateCarree())\n",
    "    \n",
    "c1 = ax.contour(lon, lat, z[itime,lev925,:,:], levels_z925, colors='black', linewidths=1,\n",
    "                transform=ccrs.PlateCarree())\n",
    "ax.clabel(c1,fmt='%4.1i', fontsize=10)\n",
    "\n",
    "cf = ax.contourf(lon, lat, msl[itime,:,:]-msl[itime-1,:,:], levels=levels_ptend, extend='both',\n",
    "                 cmap='bwr', transform=ccrs.PlateCarree())\n",
    "cb = fig.colorbar(cf, orientation='horizontal', aspect=65, shrink=0.5, pad=0.05, extendrect='True')\n",
    "cb.set_label('hPa/6h')\n",
    "\n",
    "ax.barbs(lon[wind_slice], lat[wind_slice],\n",
    "         ua[itime,lev925][wind_slice, wind_slice],\n",
    "         va[itime,lev925][wind_slice, wind_slice], pivot='middle',\n",
    "         color='green', length=6.5, transform=ccrs.PlateCarree())\n",
    "\n",
    "plot_maxmin_points(msl[itime,:,:], 'max', 25, symbol='H', color='r',  transform=ccrs.PlateCarree())\n",
    "plot_maxmin_points(msl[itime,:,:], 'min', 25, symbol='L', color='b', transform=ccrs.PlateCarree())\n",
    "h,_ = c1.legend_elements()\n",
    "ax.legend([h[0]], ['Z925'], loc='lower right')\n",
    "    \n",
    "figname='./figs/ECMWF_ZVa925_Ptend_'+date_str[itime]\n",
    "plt.savefig(figname+'.png',bbox_inches='tight')\n",
    "    \n",
    "plt.show()"
   ]
  },
  {
   "cell_type": "raw",
   "metadata": {},
   "source": [
    "Pression réduite au niveau de la mer, tendance de pression en 6h et divergence du vent agéostrophique."
   ]
  },
  {
   "cell_type": "code",
   "execution_count": null,
   "metadata": {
    "scrolled": false
   },
   "outputs": [],
   "source": [
    "div925=gaussian_filter(diva[itime,lev925,:,:]*1e05, sigma=2.0)\n",
    "#div925=diva[itime,lev925,:,:]*1e05\n",
    "\n",
    "fig = plt.figure(figsize=(15., 12.))\n",
    "ax = fig.add_subplot(1, 1, 1, projection=projection)\n",
    "ax.set_title('Geopotential height (mgp) and and ageostrophic divergence ($10^{-5}$s$^{-1}$) at 925 hPa, MSLP tendency (hPa/6h)', loc='left', fontsize=14)\n",
    "ax.set_title(date_str[itime], loc='right', fontsize=14)\n",
    "plot_background(ax)\n",
    "ax.set_extent(*bounds, crs=ccrs.PlateCarree())\n",
    "    \n",
    "c1 = ax.contour(lon, lat, z[itime,lev925,:,:], levels_z925, colors='black', linewidths=1,\n",
    "                transform=ccrs.PlateCarree())\n",
    "ax.clabel(c1,fmt='%4.1i', fontsize=10)\n",
    "c2 = ax.contour(lon, lat, div925, levels_div[levels_div != 0], colors='green', linewidths=1, transform=ccrs.PlateCarree())\n",
    "ax.clabel(c2,fmt='%4.1i', fontsize=10)\n",
    "\n",
    "cf = ax.contourf(lon, lat, msl[itime,:,:]-msl[itime-1,:,:], levels=levels_ptend, extend='both',\n",
    "                 cmap='bwr', transform=ccrs.PlateCarree())\n",
    "cb = fig.colorbar(cf, orientation='horizontal', aspect=65, shrink=0.5, pad=0.05, extendrect='True')\n",
    "cb.set_label('hPa/6h')\n",
    "\n",
    "plot_maxmin_points(msl[itime,:,:], 'max', 25, symbol='H', color='r',  transform=ccrs.PlateCarree())\n",
    "plot_maxmin_points(msl[itime,:,:], 'min', 25, symbol='L', color='b', transform=ccrs.PlateCarree())\n",
    "\n",
    "h1,_ = c1.legend_elements()\n",
    "h2,_ = c2.legend_elements()\n",
    "ax.legend([h1[0], h2[0]], ['Z925hPa', 'div925'], loc='lower right')\n",
    "    \n",
    "figname='./figs/ECMWF_ZdivVa925_Ptend_'+date_str[itime]\n",
    "plt.savefig(figname+'.png',bbox_inches='tight')\n",
    "    \n",
    "plt.show()"
   ]
  },
  {
   "cell_type": "raw",
   "metadata": {},
   "source": [
    "Géopotentiel et divergence agéostrophique à 925 hPa + vitesse verticale à 600hPa (date spécifique)."
   ]
  },
  {
   "cell_type": "code",
   "execution_count": null,
   "metadata": {
    "scrolled": false
   },
   "outputs": [],
   "source": [
    "div925=gaussian_filter(diva[itime,lev925,:,:]*1e05, sigma=2.0)\n",
    "#div925=diva[itime,lev925,:,:]*1e05\n",
    "\n",
    "fig = plt.figure(figsize=(15., 12.))\n",
    "ax = fig.add_subplot(1, 1, 1, projection=projection)\n",
    "ax.set_title('Geopotential height (mgp) and ageostrophic divergence ($10^{-5}$s$^{-1}$) at 925 hPa - Vertical motion (Pa/s) at 600 hPa',\n",
    "             loc='left', fontsize=14)\n",
    "ax.set_title(date_str[itime], loc='right', fontsize=14)\n",
    "plot_background(ax)\n",
    "ax.set_extent(*bounds, crs=ccrs.PlateCarree())\n",
    "\n",
    "cf = ax.contourf(lon, lat, div925,\n",
    "                 levels_div[levels_div != 0], extend='both',\n",
    "                 cmap='bwr', transform=ccrs.PlateCarree())\n",
    "cb = fig.colorbar(cf, orientation='horizontal', aspect=65, shrink=0.5, pad=0.05, extendrect='True')\n",
    "\n",
    "cb.set_label('$10^{-5}$s$^{-1}$')\n",
    "\n",
    "c1 = ax.contour(lon, lat, z[itime,lev925,:,:], levels_z925, colors='black', linewidths=1,\n",
    "                transform=ccrs.PlateCarree())\n",
    "c2 = ax.contour(lon, lat, w[itime,lev600,:,:], levels_wpos[levels_wpos != 0], colors='brown', linewidths=1,\n",
    "                transform=ccrs.PlateCarree()) \n",
    "c3 = ax.contour(lon, lat, w[itime,lev600,:,:], levels_wneg[levels_wneg != 0], colors='green', linewidths=1,\n",
    "                linestyle=\"--\", transform=ccrs.PlateCarree()) \n",
    "\n",
    "ax.clabel(c1, fmt='%4.1i', fontsize=10)\n",
    "ax.clabel(c2, fmt='%4.1f', fontsize=10)\n",
    "ax.clabel(c3, fmt='%4.1f', fontsize=10)\n",
    "\n",
    "h1,_ = c1.legend_elements()\n",
    "h2,_ = c2.legend_elements()\n",
    "h3,_ = c3.legend_elements()\n",
    "ax.legend([h1[0], h2[0], h3[0]], ['Z925hPa', 'VV+ 600hPa', 'VV- 600hPa'], loc='lower right')\n",
    "\n",
    "figname='./figs/ECMWF_Zdiv925_VV600_'+date_str[itime]\n",
    "plt.savefig(figname+'.png',bbox_inches='tight')\n",
    "\n",
    "plt.show()"
   ]
  },
  {
   "cell_type": "raw",
   "metadata": {},
   "source": [
    "Géopotentiel à 925 hPa humidité relative à 700hPa >90% + vitesse verticale à 600hPa (date spécifique)."
   ]
  },
  {
   "cell_type": "code",
   "execution_count": null,
   "metadata": {
    "scrolled": false
   },
   "outputs": [],
   "source": [
    "levels_rh=np.arange(80,102,2)\n",
    "\n",
    "rh700=rh[itime,lev700,:,:]*100\n",
    "rh300=rh[itime,lev300,:,:]*100\n",
    "\n",
    "fig = plt.figure(figsize=(15., 12.))\n",
    "ax = fig.add_subplot(1, 1, 1, projection=projection)\n",
    "ax.set_title('Geopotential height (mgp) at 925 hPa, RH>80% at 700 hPa - Vertical motion (Pa/s) at 600 hPa',\n",
    "             loc='left', fontsize=14)\n",
    "ax.set_title(date_str[itime], loc='right', fontsize=14)\n",
    "plot_background(ax)\n",
    "ax.set_extent(*bounds, crs=ccrs.PlateCarree())\n",
    "\n",
    "cf = ax.contourf(lon, lat, rh700,\n",
    "                 levels_rh, extend='max',\n",
    "                 cmap='magma', transform=ccrs.PlateCarree())\n",
    "cb = fig.colorbar(cf, orientation='horizontal', aspect=65, shrink=0.5, pad=0.05, extendrect='True')\n",
    "cb.set_label('%')\n",
    "\n",
    "c1 = ax.contour(lon, lat, z[itime,lev925,:,:], levels_z925, colors='black', linewidths=1,\n",
    "                transform=ccrs.PlateCarree())\n",
    "c2 = ax.contour(lon, lat, w[itime,lev600,:,:], levels_wpos[levels_wpos != 0], colors='brown', linewidths=1,\n",
    "                transform=ccrs.PlateCarree()) \n",
    "c3 = ax.contour(lon, lat, w[itime,lev600,:,:], levels_wneg[levels_wneg != 0], colors='green', linewidths=1,\n",
    "                linestyle=\"--\", transform=ccrs.PlateCarree()) \n",
    "\n",
    "ax.clabel(c1, fmt='%4.1i', fontsize=10)\n",
    "ax.clabel(c2, fmt='%4.1f', fontsize=10)\n",
    "ax.clabel(c3, fmt='%4.1f', fontsize=10)\n",
    "\n",
    "h1,_ = c1.legend_elements()\n",
    "h2,_ = c2.legend_elements()\n",
    "h3,_ = c3.legend_elements()\n",
    "ax.legend([h1[0], h2[0], h3[0]], ['Z925hPa', 'VV+ 600hPa', 'VV- 600hPa'], loc='lower right')\n",
    "\n",
    "figname='./figs/ECMWF_Z925_RH700_VV600_'+date_str[itime]\n",
    "plt.savefig(figname+'.png',bbox_inches='tight')\n",
    "\n",
    "plt.show()"
   ]
  },
  {
   "cell_type": "markdown",
   "metadata": {},
   "source": [
    "# Advection thermique et vitesses verticales"
   ]
  },
  {
   "cell_type": "raw",
   "metadata": {},
   "source": [
    "Géopotentiel et advection de température à 850 hPa + vitesse verticale à 600hPa (date spécifique)."
   ]
  },
  {
   "cell_type": "code",
   "execution_count": null,
   "metadata": {
    "scrolled": false
   },
   "outputs": [],
   "source": [
    "tadv850=gaussian_filter(t_adv[itime,lev850,:,:], sigma=3.0)\n",
    "#tadv850=t_adv[itime,lev850,:,:]\n",
    "\n",
    "fig = plt.figure(figsize=(15., 12.))\n",
    "ax = fig.add_subplot(1, 1, 1, projection=projection)\n",
    "ax.set_title('Geopotential height (mgp) and temperature advection (K/3h) at 850 hPa - Vertical motion (Pa/s) at 600 hPa',\n",
    "             loc='left', fontsize=14)\n",
    "ax.set_title(date_str[itime], loc='right', fontsize=14)\n",
    "plot_background(ax)\n",
    "ax.set_extent(*bounds, crs=ccrs.PlateCarree())\n",
    "\n",
    "cf = ax.contourf(lon, lat, tadv850,\n",
    "                 levels_tadv[levels_tadv != 0], extend='both',\n",
    "                 cmap='bwr', transform=ccrs.PlateCarree())\n",
    "cb = fig.colorbar(cf, orientation='horizontal', aspect=65, shrink=0.5, pad=0.05, extendrect='True')\n",
    "cb.set_label('K/3h')\n",
    "\n",
    "c1 = ax.contour(lon, lat, z[itime,lev850,:,:], levels_z850, colors='black', linewidths=1,\n",
    "                transform=ccrs.PlateCarree())\n",
    "c2 = ax.contour(lon, lat, w[itime,lev600,:,:], levels_wpos[levels_wpos != 0], colors='brown', linewidths=1,\n",
    "                transform=ccrs.PlateCarree()) \n",
    "c3 = ax.contour(lon, lat, w[itime,lev600,:,:], levels_wneg[levels_wneg != 0], colors='green', linewidths=1,\n",
    "                linestyle=\"--\", transform=ccrs.PlateCarree()) \n",
    "\n",
    "ax.clabel(c1, fmt='%4.1i', fontsize=10)\n",
    "ax.clabel(c2, fmt='%4.1f', fontsize=10)\n",
    "ax.clabel(c3, fmt='%4.1f', fontsize=10)\n",
    "\n",
    "h1,_ = c1.legend_elements()\n",
    "h2,_ = c2.legend_elements()\n",
    "h3,_ = c3.legend_elements()\n",
    "ax.legend([h1[0], h2[0], h3[0]], ['Z850hPa', 'VV+ 600hPa', 'VV- 600hPa'], loc='lower right')\n",
    "\n",
    "figname='./figs/ECMWF_ZTadv850_VV600_'+date_str[itime]\n",
    "plt.savefig(figname+'.png',bbox_inches='tight')\n",
    "\n",
    "plt.show()"
   ]
  },
  {
   "cell_type": "markdown",
   "metadata": {},
   "source": [
    "# Advection différentielle de tourbillon et vitesses verticales"
   ]
  },
  {
   "cell_type": "raw",
   "metadata": {},
   "source": [
    "Géopotentiel à 300hPa, advection différentielle de tourbillon et vitesse verticale à 600hPa (date spécifique)."
   ]
  },
  {
   "cell_type": "code",
   "execution_count": null,
   "metadata": {
    "scrolled": false
   },
   "outputs": [],
   "source": [
    "vort_adv300=gaussian_filter(vort_adv[itime,lev300,:,:], sigma=5.0)\n",
    "vort_adv850=gaussian_filter(vort_adv[itime,lev850,:,:], sigma=5.0)\n",
    "\n",
    "#vort_adv300=vort_adv[itime,lev300,:,:]\n",
    "#vort_adv850=vort_adv[itime,lev850,:,:]\n",
    "\n",
    "fig = plt.figure(figsize=(15., 12.))\n",
    "ax = fig.add_subplot(1, 1, 1, projection=projection)\n",
    "ax.set_title('300hPa geopotential height (mgp), differential vorticity advection ($10^{-9}$s$^{-2}$) 600hPa vertical motion (Pa/s)',\n",
    "             loc='left', fontsize=14)\n",
    "ax.set_title(date_str[itime], loc='right', fontsize=14)\n",
    "plot_background(ax)\n",
    "ax.set_extent(*bounds, crs=ccrs.PlateCarree())\n",
    "\n",
    "cf = ax.contourf(lon, lat,\n",
    "                 (vort_adv300-vort_adv850)* 1e9,\n",
    "                 levels_vadv[levels_vadv != 0],\n",
    "                 extend='both', cmap='bwr', transform=ccrs.PlateCarree())\n",
    "cb = fig.colorbar(cf, orientation='horizontal', aspect=65, shrink=0.5, pad=0.05, extendrect='True')\n",
    "cb.set_label('$10^{-9}$s$^{-2}$')\n",
    "\n",
    "c1 = ax.contour(lon, lat, z[itime,lev300,:,:], levels_z300, colors='black', linewidths=1, transform=ccrs.PlateCarree())\n",
    "c2 = ax.contour(lon, lat, w[itime,lev600,:,:], levels_wpos[levels_wpos != 0], colors='brown', linewidths=1,\n",
    "                transform=ccrs.PlateCarree()) \n",
    "c3 = ax.contour(lon, lat, w[itime,lev600,:,:], levels_wneg[levels_wneg != 0], colors='green', linewidths=1,\n",
    "                linestyle=\"--\", transform=ccrs.PlateCarree()) \n",
    "\n",
    "ax.clabel(c1, fmt='%4.1i', fontsize=10)\n",
    "ax.clabel(c2, fmt='%4.1f', fontsize=10)\n",
    "ax.clabel(c3, fmt='%4.1f', fontsize=10)\n",
    "\n",
    "h1,_ = c1.legend_elements()\n",
    "h2,_ = c2.legend_elements()\n",
    "h3,_ = c3.legend_elements()\n",
    "ax.legend([h1[0], h2[0], h3[0]], ['Z300hPa', 'VV+ 600hPa', 'VV- 600hPa'], loc='lower right')\n",
    "\n",
    "figname='./figs/ECMWF_Zvortadv300_850_VV600_'+date_str[itime]\n",
    "plt.savefig(figname+'.png',bbox_inches='tight')\n",
    "\n",
    "plt.show()"
   ]
  },
  {
   "cell_type": "markdown",
   "metadata": {},
   "source": [
    "# Forçages de vitesses verticales"
   ]
  },
  {
   "cell_type": "raw",
   "metadata": {},
   "source": [
    "Forçage thermique d'ascendances et forçage dynamique d'ascendances."
   ]
  },
  {
   "cell_type": "code",
   "execution_count": null,
   "metadata": {
    "scrolled": false
   },
   "outputs": [],
   "source": [
    "id=np.all([tadv850>0,(vort_adv300-vort_adv850)>0],axis=0)\n",
    "\n",
    "fig = plt.figure(figsize=(15., 12.))\n",
    "ax = fig.add_subplot(1, 1, 1, projection=projection)\n",
    "ax.set_title('925hPa geopotential height (mgp), 600hPa vertical motion (Pa/s) : Tadv+ VORTadv+',\n",
    "             loc='left', fontsize=14)\n",
    "ax.set_title(date_str[itime], loc='right', fontsize=14)\n",
    "plot_background(ax)\n",
    "ax.set_extent(*bounds, crs=ccrs.PlateCarree())\n",
    "\n",
    "ax.scatter(xlon[id], ylat[id], color='cyan')\n",
    "\n",
    "c1 = ax.contour(lon, lat, z[itime,lev925,:,:], levels_z925, colors='black', linewidths=1, transform=ccrs.PlateCarree())\n",
    "c2 = ax.contour(lon, lat, w[itime,lev600,:,:], levels_wpos[levels_wpos != 0], colors='brown', linewidths=1,\n",
    "                transform=ccrs.PlateCarree()) \n",
    "c3 = ax.contour(lon, lat, w[itime,lev600,:,:], levels_wneg[levels_wneg != 0], colors='green', linewidths=1,\n",
    "                linestyle=\"--\", transform=ccrs.PlateCarree()) \n",
    "\n",
    "ax.clabel(c1, fmt='%4.1i', fontsize=10)\n",
    "ax.clabel(c2, fmt='%4.1f', fontsize=10)\n",
    "ax.clabel(c3, fmt='%4.1f', fontsize=10)\n",
    "\n",
    "h1,_ = c1.legend_elements()\n",
    "h2,_ = c2.legend_elements()\n",
    "h3,_ = c3.legend_elements()\n",
    "ax.legend([h1[0], h2[0], h3[0]], ['Z925hPa', 'VV+ 600hPa', 'VV- 600hPa'], loc='lower right')\n",
    "\n",
    "figname='./figs/ECMWF_VV_forcing1_'+date_str[itime]\n",
    "plt.savefig(figname+'.png',bbox_inches='tight')\n",
    "\n",
    "plt.show()"
   ]
  },
  {
   "cell_type": "raw",
   "metadata": {},
   "source": [
    "Forçage thermique de subsidences et forçage dynamique de subsidences."
   ]
  },
  {
   "cell_type": "code",
   "execution_count": null,
   "metadata": {
    "scrolled": false
   },
   "outputs": [],
   "source": [
    "id=np.all([tadv850<0,(vort_adv300-vort_adv850)<0],axis=0)\n",
    "\n",
    "fig = plt.figure(figsize=(15., 12.))\n",
    "ax = fig.add_subplot(1, 1, 1, projection=projection)\n",
    "ax.set_title('925hPa geopotential height (mgp), 600hPa vertical motion (Pa/s) : Tadv- VORTadv-',\n",
    "             loc='left', fontsize=14)\n",
    "ax.set_title(date_str[itime], loc='right', fontsize=14)\n",
    "plot_background(ax)\n",
    "ax.set_extent(*bounds, crs=ccrs.PlateCarree())\n",
    "\n",
    "ax.scatter(xlon[id], ylat[id], color='orange')\n",
    "\n",
    "c1 = ax.contour(lon, lat, z[itime,lev925,:,:], levels_z925, colors='black', linewidths=1, transform=ccrs.PlateCarree())\n",
    "c2 = ax.contour(lon, lat, w[itime,lev600,:,:], levels_wpos[levels_wpos != 0], colors='brown', linewidths=1,\n",
    "                transform=ccrs.PlateCarree()) \n",
    "c3 = ax.contour(lon, lat, w[itime,lev600,:,:], levels_wneg[levels_wneg != 0], colors='green', linewidths=1,\n",
    "                linestyle=\"--\", transform=ccrs.PlateCarree()) \n",
    "\n",
    "ax.clabel(c1, fmt='%4.1i', fontsize=10)\n",
    "ax.clabel(c2, fmt='%4.1f', fontsize=10)\n",
    "ax.clabel(c3, fmt='%4.1f', fontsize=10)\n",
    "\n",
    "h1,_ = c1.legend_elements()\n",
    "h2,_ = c2.legend_elements()\n",
    "h3,_ = c3.legend_elements()\n",
    "ax.legend([h1[0], h2[0], h3[0]], ['Z925hPa', 'VV+ 600hPa', 'VV- 600hPa'], loc='lower right')\n",
    "\n",
    "figname='./figs/ECMWF_VV_forcing2_'+date_str[itime]\n",
    "plt.savefig(figname+'.png',bbox_inches='tight')\n",
    "\n",
    "plt.show()"
   ]
  },
  {
   "cell_type": "raw",
   "metadata": {},
   "source": [
    "Forçage thermique d'ascendances et forçage dynamique de subsidences."
   ]
  },
  {
   "cell_type": "code",
   "execution_count": null,
   "metadata": {
    "scrolled": false
   },
   "outputs": [],
   "source": [
    "id=np.all([tadv850>0,(vort_adv300-vort_adv850)<0],axis=0)\n",
    "\n",
    "fig = plt.figure(figsize=(15., 12.))\n",
    "ax = fig.add_subplot(1, 1, 1, projection=projection)\n",
    "ax.set_title('925hPa geopotential height (mgp), 600hPa vertical motion (Pa/s) : Tadv+ VORTadv-',\n",
    "             loc='left', fontsize=14)\n",
    "ax.set_title(date_str[itime], loc='right', fontsize=14)\n",
    "plot_background(ax)\n",
    "ax.set_extent(*bounds, crs=ccrs.PlateCarree())\n",
    "\n",
    "ax.scatter(xlon[id], ylat[id], color='pink')\n",
    "\n",
    "c1 = ax.contour(lon, lat, z[itime,lev925,:,:], levels_z925, colors='black', linewidths=1, transform=ccrs.PlateCarree())\n",
    "c2 = ax.contour(lon, lat, w[itime,lev600,:,:], levels_wpos[levels_wpos != 0], colors='brown', linewidths=1,\n",
    "                transform=ccrs.PlateCarree()) \n",
    "c3 = ax.contour(lon, lat, w[itime,lev600,:,:], levels_wneg[levels_wneg != 0], colors='green', linewidths=1,\n",
    "                linestyle=\"--\", transform=ccrs.PlateCarree()) \n",
    "\n",
    "ax.clabel(c1, fmt='%4.1i', fontsize=10)\n",
    "ax.clabel(c2, fmt='%4.1f', fontsize=10)\n",
    "ax.clabel(c3, fmt='%4.1f', fontsize=10)\n",
    "\n",
    "h1,_ = c1.legend_elements()\n",
    "h2,_ = c2.legend_elements()\n",
    "h3,_ = c3.legend_elements()\n",
    "ax.legend([h1[0], h2[0], h3[0]], ['Z925hPa', 'VV+ 600hPa', 'VV- 600hPa'], loc='lower right')\n",
    "\n",
    "figname='./figs/ECMWF_VV_forcing3_'+date_str[itime]\n",
    "plt.savefig(figname+'.png',bbox_inches='tight')\n",
    "\n",
    "plt.show()"
   ]
  },
  {
   "cell_type": "raw",
   "metadata": {},
   "source": [
    "Forçage thermique de subsidence et forçage dynamique d'ascendances."
   ]
  },
  {
   "cell_type": "code",
   "execution_count": null,
   "metadata": {
    "scrolled": false
   },
   "outputs": [],
   "source": [
    "id=np.all([tadv850<0,(vort_adv300-vort_adv850)>0],axis=0)\n",
    "\n",
    "fig = plt.figure(figsize=(15., 12.))\n",
    "ax = fig.add_subplot(1, 1, 1, projection=projection)\n",
    "ax.set_title('925hPa geopotential height (mgp), 600hPa vertical motion (Pa/s) : Tadv- VORTadv+',\n",
    "             loc='left', fontsize=14)\n",
    "ax.set_title(date_str[itime], loc='right', fontsize=14)\n",
    "plot_background(ax)\n",
    "ax.set_extent(*bounds, crs=ccrs.PlateCarree())\n",
    "\n",
    "ax.scatter(xlon[id], ylat[id], color='yellow')\n",
    "\n",
    "c1 = ax.contour(lon, lat, z[itime,lev925,:,:], levels_z925, colors='black', linewidths=1, transform=ccrs.PlateCarree())\n",
    "c2 = ax.contour(lon, lat, w[itime,lev600,:,:], levels_wpos[levels_wpos != 0], colors='brown', linewidths=1,\n",
    "                transform=ccrs.PlateCarree()) \n",
    "c3 = ax.contour(lon, lat, w[itime,lev600,:,:], levels_wneg[levels_wneg != 0], colors='green', linewidths=1,\n",
    "                linestyle=\"--\", transform=ccrs.PlateCarree()) \n",
    "\n",
    "ax.clabel(c1, fmt='%4.1i', fontsize=10)\n",
    "ax.clabel(c2, fmt='%4.1f', fontsize=10)\n",
    "ax.clabel(c3, fmt='%4.1f', fontsize=10)\n",
    "\n",
    "h1,_ = c1.legend_elements()\n",
    "h2,_ = c2.legend_elements()\n",
    "h3,_ = c3.legend_elements()\n",
    "ax.legend([h1[0], h2[0], h3[0]], ['Z925hPa', 'VV+ 600hPa', 'VV- 600hPa'], loc='lower right')\n",
    "\n",
    "figname='./figs/ECMWF_VV_forcing4_'+date_str[itime]\n",
    "plt.savefig(figname+'.png',bbox_inches='tight')\n",
    "\n",
    "plt.show()"
   ]
  },
  {
   "cell_type": "markdown",
   "metadata": {},
   "source": [
    "# Etude du champ de tourbillon potentiel"
   ]
  },
  {
   "cell_type": "raw",
   "metadata": {},
   "source": [
    "Echelles de valeurs et palettes de couleurs pour les cartes de PV."
   ]
  },
  {
   "cell_type": "code",
   "execution_count": null,
   "metadata": {
    "scrolled": false
   },
   "outputs": [],
   "source": [
    "levs_pv = np.arange(-1, 10.5, 0.5)\n",
    "levs_pv2 = np.arange(0, 10.5, 0.5)\n",
    "levs_pv3 = np.arange(5, 10.5, 0.5)\n",
    "levs_2pvu = np.arange(2, 2.5, 0.5)\n",
    "levs_15pvu = np.arange(1.5, 2, 0.5)\n",
    "levs_th = np.arange(100, 500, 5)\n",
    "levs_the = np.arange(150,550,5)\n",
    "\n",
    "cmap='YlOrRd'\n",
    "cmap='viridis'"
   ]
  },
  {
   "cell_type": "raw",
   "metadata": {},
   "source": [
    "Tourbillon potentiel à 300 hPa - comparaison fichier netcdf (pv) VS diagnostic perso (pv2). Animation."
   ]
  },
  {
   "cell_type": "code",
   "execution_count": null,
   "metadata": {
    "scrolled": false
   },
   "outputs": [],
   "source": [
    "projection = ccrs.PlateCarree()\n",
    "bounds = [(lonW, lonE, latS, latN)]\n",
    "\n",
    "for i in range(len(time)):\n",
    "    print(date_str[i])\n",
    "    \n",
    "    fig = plt.figure(figsize=(15., 15.))\n",
    "    fig.suptitle('Potential vorticity at 300 hPa : '+date_str[i], fontsize=16)\n",
    "    \n",
    "    ax = plt.subplot(211, projection=projection)\n",
    "    ax.set_title('from netcdf', loc='center')\n",
    "    plot_background(ax)\n",
    "    ax.set_extent(*bounds, ccrs.PlateCarree())\n",
    "    cs1 = ax.contourf(lon, lat, pv[i,lev300,:,:]*1e6, levs_pv, cmap=cmap,\n",
    "                      extend='both', transform=ccrs.PlateCarree())\n",
    "    cb = plt.colorbar(cs1, orientation='horizontal', aspect=65, shrink=0.5, pad=0.05, extendrect='True')\n",
    "    cb.set_label('10$^{-6}$ K  m$^{2}$ kg$^{-1}$ s$^{-1}$')\n",
    "    \n",
    "    ax = plt.subplot(212, projection=projection)\n",
    "    ax.set_title('diagnostic', loc='center')\n",
    "    plot_background(ax)\n",
    "    ax.set_extent(*bounds, ccrs.PlateCarree())\n",
    "    cs1 = ax.contourf(lon, lat, pv2[i,lev300,:,:]*1e6, levs_pv, cmap=cmap,\n",
    "                      extend='both', transform=ccrs.PlateCarree())\n",
    "    cb = plt.colorbar(cs1, orientation='horizontal', aspect=65, shrink=0.5, pad=0.05, extendrect='True')\n",
    "    cb.set_label('10$^{-6}$ K  m$^{2}$ kg$^{-1}$ s$^{-1}$')\n",
    "    \n",
    "    figname='./anim/ERA5_PV_'+date_str[i]\n",
    "    plt.savefig(figname+'.png',bbox_inches='tight')\n",
    "    \n",
    "    plt.close()\n",
    "\n",
    "gif_filepath = './anim/ECMWF_PV_polarNH_'+date1+'-'+date2+'.gif'\n",
    "make_animation()\n",
    "IPdisplay.Image(url=gif_filepath)"
   ]
  },
  {
   "cell_type": "raw",
   "metadata": {},
   "source": [
    "Tourbillon potentiel, géopotentiel et vent à 300 hPa (animation)."
   ]
  },
  {
   "cell_type": "code",
   "execution_count": null,
   "metadata": {
    "scrolled": false
   },
   "outputs": [],
   "source": [
    "projection = ccrs.PlateCarree()\n",
    "bounds = [(lonW, lonE, latS, latN)]\n",
    "\n",
    "levels_z = np.arange(int(z.min()),int(z.max()),100)\n",
    "wind_slice = slice(None, None, 10)\n",
    "\n",
    "for i in range(len(time)):\n",
    "    #print(date_str[i])\n",
    "    fig = plt.figure(figsize=(15., 10.))\n",
    "    ax = plt.subplot(111, projection=projection)\n",
    "    ax.set_title('300hPa potential vorticity (PVU), geopotential height (mgp) and winds (kt)', loc='left')\n",
    "    ax.set_title(date_str[i], loc='right')\n",
    "    plot_background(ax)\n",
    "    ax.set_extent(*bounds, crs=ccrs.PlateCarree())\n",
    "    cs1 = ax.contour(lon, lat, z[i,lev300,:,:], levels_z, colors='black', transform=ccrs.PlateCarree())\n",
    "    cs2 = ax.contourf(lon, lat, pv[i,lev300,:,:]*1e6, levs_pv, cmap=cmap,\n",
    "                      extend='both', transform=ccrs.PlateCarree())\n",
    "    cb = fig.colorbar(cs2, orientation='horizontal', aspect=65, shrink=0.5, pad=0.05, extendrect='True')\n",
    "    cb.set_label('10$^{-6}$ K  m$^{2}$ kg$^{-1}$ s$^{-1}$')\n",
    "    \n",
    "    ax.barbs(lon[wind_slice], lat[wind_slice],\n",
    "         u[i,lev300][wind_slice, wind_slice],\n",
    "         v[i,lev300][wind_slice, wind_slice], pivot='middle',\n",
    "         color='red', length=6.5, transform=ccrs.PlateCarree())\n",
    "\n",
    "    figname='./anim/ECMWF_PV_Z_wind_'+date_str[i]\n",
    "    plt.savefig(figname+'.png',bbox_inches='tight')\n",
    "    \n",
    "    plt.show()\n",
    "    plt.close()\n",
    "\n",
    "gif_filepath = './anim/ECMWF_PV_Z_wind_'+date1+'-'+date2+'.gif'\n",
    "make_animation()\n",
    "IPdisplay.Image(url=gif_filepath)"
   ]
  },
  {
   "cell_type": "raw",
   "metadata": {},
   "source": [
    "Section verticale-zonale de la température potentielle du tourbillon potentiel et du vent (date spécifique)."
   ]
  },
  {
   "cell_type": "code",
   "execution_count": null,
   "metadata": {
    "scrolled": false
   },
   "outputs": [],
   "source": [
    "date_selection='2014-01-26T00'\n",
    "\n",
    "# Define cross section\n",
    "lat1 = 55\n",
    "lat2=lat1\n",
    "lon1 = lonW\n",
    "lon2 = lonE\n",
    "\n",
    "# Find the lat/lon index values for the desired xsection\n",
    "ilat1 = list(lat).index(lat1)\n",
    "ilat2 = list(lat).index(lat2)\n",
    "ilon1 = list(lon).index(lon1)\n",
    "ilon2 = list(lon).index(lon2)\n",
    "\n",
    "# Find the index value for the desired xsection time surface\n",
    "itime = date_str.index(date_selection)\n",
    "\n",
    "lon_profile1=2\n",
    "lon_profile2=-13\n",
    "lon_profile3=-33\n",
    "\n",
    "# Fields\n",
    "pv_xs= pv[itime,:,ilat1,ilon1:ilon2]\n",
    "u_xs= u[itime,:,ilat1,ilon1:ilon2]\n",
    "v_xs= v[itime,:,ilat1,ilon1:ilon2]\n",
    "t_xs= t[itime,:,ilat1,ilon1:ilon2]\n",
    "th_xs= theta[itime,:,ilat1,ilon1:ilon2]\n",
    "the_xs= thetae[itime,:,ilat1,ilon1:ilon2]\n",
    "lons_xs=lon[ilon1:ilon2]\n",
    "\n",
    "levels_v = np.arange(-40,50,10)\n",
    "\n",
    "# Plot\n",
    "fig = plt.figure(1, figsize=(14, 12))\n",
    "ax = plt.subplot(111)\n",
    "fig.suptitle('Potential vorticity (PVU) potential temperature (K) and winds (kt)', fontsize=16)\n",
    "ax.set_title(date_str[itime], loc='right', fontsize=14)\n",
    "ax.set_title('Crossection at '+str(lat1)+'N', loc='left', fontsize=14)\n",
    "ax.set_yscale('symlog')\n",
    "plt.xlabel('Longitude')\n",
    "plt.ylabel('Pressure level (hPa)')\n",
    "ax.set_yticklabels(np.arange(1000, 0, -100))\n",
    "ax.set_ylim(1000, 100)\n",
    "ax.set_yticks(np.arange(1000, 0, -100))  \n",
    "#ax.set_xticklabels(np.arange(-90, 90, 10))\n",
    "#ax.set_xticks(lons_xs)    \n",
    "cf = ax.contourf(lons_xs, lev, pv_xs*1e6,levs_pv2, cmap=cmap, extend='both')\n",
    "cb = fig.colorbar(cf, orientation='horizontal', aspect=65, shrink=0.5, pad=0.05, extendrect='True')\n",
    "c1 = ax.contour(lons_xs, lev, pv_xs*1e6, levs_15pvu, colors='black', linewidth=4)\n",
    "c2 = ax.contour(lons_xs, lev, th_xs, levs_th, colors='grey')\n",
    "ax.clabel(c2, fmt='%4.1i', fontsize=10)\n",
    "\n",
    "#c3 = ax.contour(lons_xs, lev, v_xs, levels_v[levels_v != 0], colors='blue')\n",
    "#ax.clabel(c3, fmt='%4.1i', fontsize=10)\n",
    "\n",
    "wind = ax.barbs(lons_xs[10::18], lev, u_xs[:,10::18], v_xs[:,10::18], color='red')\n",
    "\n",
    "plt.axvline(lon_profile1, color='black', linestyle=\"--\")\n",
    "plt.axvline(lon_profile2, color='black', linestyle=\"--\")\n",
    "plt.axvline(lon_profile3, color='black', linestyle=\"--\")\n",
    "\n",
    "# Plot small stamp map\n",
    "iplev = list(lev).index(300)\n",
    "ax_inset = fig.add_axes([0.925, 0.695, 0.2, 0.2], projection=ccrs.PlateCarree())\n",
    "ax_inset.set_title('PV at 300hPa')\n",
    "ax_inset.coastlines()\n",
    "ax_inset.gridlines()\n",
    "bounds = [(lonW, lonE, latS, latN)]\n",
    "ax_inset.set_extent(*bounds, crs=ccrs.PlateCarree())\n",
    "ax_inset.contour(lon, lat, pv2[itime,iplev,:,:]*1e6, levels=levs_pv, transform=ccrs.PlateCarree())\n",
    "# Plot the path of the cross section\n",
    "ax_inset.plot([lon1, lon2], [lat1, lat2], c='red', lw=1, transform=ccrs.PlateCarree())\n",
    "\n",
    "figname='./figs/ECMWF_PV_XS_lat_'+str(lat1)+'_'+date2\n",
    "plt.savefig(figname+'.png',bbox_inches='tight')\n",
    "\n",
    "plt.show()"
   ]
  },
  {
   "cell_type": "raw",
   "metadata": {},
   "source": [
    "Profil de température dans l'anomalie."
   ]
  },
  {
   "cell_type": "code",
   "execution_count": null,
   "metadata": {
    "scrolled": false
   },
   "outputs": [],
   "source": [
    "ilon_profile1 = list(t_xs.longitude.values).index(lon_profile1)\n",
    "t_profile1=t_xs[:,ilon_profile1]\n",
    "th_profile1=th_xs[:,ilon_profile1]\n",
    "\n",
    "ilon_profile2 = list(t_xs.longitude.values).index(lon_profile2)\n",
    "t_profile2=t_xs[:,ilon_profile2]\n",
    "th_profile2=th_xs[:,ilon_profile2]\n",
    "\n",
    "ilon_profile3 = list(t_xs.longitude.values).index(lon_profile3)\n",
    "t_profile3=t_xs[:,ilon_profile3]\n",
    "th_profile3=th_xs[:,ilon_profile3]\n",
    "\n",
    "print(t_profile1.shape)\n",
    "\n",
    "fig = plt.figure(figsize=(15,8))\n",
    "fig.suptitle('Temperature and potential temperature profiles', fontsize=16)\n",
    "\n",
    "plt.subplot(121)\n",
    "plt.title('Temperature profile')\n",
    "plt.xlabel('Temperature (K)')\n",
    "plt.ylabel('Pressure level (hPa)')\n",
    "plt.yscale('log')\n",
    "plt.gca().invert_yaxis()\n",
    "plt.plot(t_profile1,lev, label='longitude '+str(lon_profile1))\n",
    "plt.plot(t_profile2,lev, label='longitude '+str(lon_profile2))\n",
    "plt.plot(t_profile3,lev, label='longitude '+str(lon_profile3))\n",
    "\n",
    "plt.legend()\n",
    "\n",
    "plt.subplot(122)\n",
    "plt.title('Potential temperature profile')\n",
    "plt.xlabel('Potential temperature (K)')\n",
    "plt.ylabel('Pressure level (hPa)')\n",
    "plt.yscale('log')\n",
    "plt.gca().invert_yaxis()\n",
    "plt.plot(th_profile1,lev, label='longitude '+str(lon_profile1))\n",
    "plt.plot(th_profile2,lev, label='longitude '+str(lon_profile2))\n",
    "plt.plot(th_profile3,lev, label='longitude '+str(lon_profile3))\n",
    "plt.legend()\n",
    "\n",
    "plt.show()"
   ]
  },
  {
   "cell_type": "code",
   "execution_count": null,
   "metadata": {
    "scrolled": false
   },
   "outputs": [],
   "source": [
    "# Plot\n",
    "fig = plt.figure(1, figsize=(14, 12))\n",
    "ax = plt.subplot(111)\n",
    "fig.suptitle('Potential vorticity (PVU) equivalent potential temperature (K) and winds (kt)', fontsize=16)\n",
    "ax.set_title(date_str[itime], loc='right', fontsize=14)\n",
    "ax.set_title('Crossection at '+str(lat1)+'N', loc='left', fontsize=14)\n",
    "ax.set_yscale('symlog')\n",
    "plt.xlabel('Longitude')\n",
    "plt.ylabel('Pressure level (hPa)')\n",
    "ax.set_yticklabels(np.arange(1000, 0, -100))\n",
    "ax.set_ylim(1000, 100)\n",
    "ax.set_yticks(np.arange(1000, 0, -100))  \n",
    "#ax.set_xticklabels(np.arange(-90, 90, 10))\n",
    "#ax.set_xticks(lons_xs)    \n",
    "cf = ax.contourf(lons_xs, lev, pv_xs*1e6,levs_pv2, cmap=cmap, extend='both')\n",
    "c1 = ax.contour(lons_xs, lev, pv_xs*1e6, levs_15pvu, colors='black', linewidth=4)\n",
    "c2 = ax.contour(lons_xs, lev, the_xs,levs_the, colors='grey')\n",
    "ax.clabel(c2, fmt='%4.1i', fontsize=10)\n",
    "cb = fig.colorbar(cf, orientation='horizontal', aspect=65, shrink=0.5, pad=0.05, extendrect='True')\n",
    "\n",
    "wind = ax.barbs(lons_xs[10::18], lev, u_xs[:,10::18], v_xs[:,10::18], color='red')\n",
    "\n",
    "\n",
    "# Plot small stamp map\n",
    "iplev = list(lev).index(300)\n",
    "ax_inset = fig.add_axes([0.925, 0.695, 0.2, 0.2], projection=ccrs.PlateCarree())\n",
    "ax_inset.set_title('PV at 300hPa')\n",
    "ax_inset.coastlines()\n",
    "ax_inset.gridlines()\n",
    "bounds = [(lonW, lonE, latS, latN)]\n",
    "ax_inset.set_extent(*bounds, crs=ccrs.PlateCarree())\n",
    "ax_inset.contour(lon, lat, pv2[itime,iplev,:,:]*1e6, levels=levs_pv, transform=ccrs.PlateCarree())\n",
    "# Plot the path of the cross section\n",
    "ax_inset.plot([lon1, lon2], [lat1, lat2], c='red', lw=1, transform=ccrs.PlateCarree())\n",
    "\n",
    "figname='./figs/ECMWF_PV_XS2_lat_'+str(lat1)+'_'+date2\n",
    "plt.savefig(figname+'.png',bbox_inches='tight')\n",
    "\n",
    "plt.show()"
   ]
  },
  {
   "cell_type": "raw",
   "metadata": {},
   "source": [
    "Section verticale-méridienne de la température potentielle et du tourbillon potentiel (date spécifique)."
   ]
  },
  {
   "cell_type": "code",
   "execution_count": null,
   "metadata": {
    "scrolled": false
   },
   "outputs": [],
   "source": [
    "date_selection='2014-01-26T00'\n",
    "\n",
    "# Define cross section\n",
    "lat1 = latN\n",
    "lat2 = 45\n",
    "lon1 = -23\n",
    "lon2=lon1\n",
    "\n",
    "# Find the lat/lon index values for the desired xsection\n",
    "ilat1 = list(lat).index(lat1)\n",
    "ilat2 = list(lat).index(lat2)\n",
    "ilon1 = list(lon).index(lon1)\n",
    "ilon2 = list(lon).index(lon2)\n",
    "\n",
    "# Find the time index value for the desired xsection\n",
    "itime = date_str.index(date_selection)\n",
    "\n",
    "# Fields\n",
    "pv_xs= pv[itime,:,ilat1:ilat2,ilon1]\n",
    "u_xs= u[itime,:,ilat1:ilat2,ilon1]\n",
    "v_xs= v[itime,:,ilat1:ilat2,ilon1]\n",
    "th_xs= theta[itime,:,ilat1:ilat2,ilon1]\n",
    "the_xs= thetae[itime,:,ilat1:ilat2,ilon1]\n",
    "lats_xs=lat[ilat1:ilat2]\n",
    "\n",
    "print(lats_xs.shape)\n",
    "print(u_xs.shape)\n",
    "print(v_xs.shape)\n",
    "\n",
    "\n",
    "# Plot\n",
    "fig = plt.figure(1, figsize=(14, 12))\n",
    "ax = plt.subplot(111)\n",
    "fig.suptitle('Potential vorticity (PVU) and potential temperature (K)', fontsize=16)\n",
    "ax.set_title(date_str[itime], loc='right', fontsize=14)\n",
    "ax.set_title('Crossection at '+str(lon1)+'W', loc='left', fontsize=14)\n",
    "ax.set_yscale('symlog')\n",
    "plt.xlabel('Latitude')\n",
    "plt.ylabel('Pressure level (hPa)')\n",
    "ax.set_yticklabels(np.arange(1000, 0, -100))\n",
    "ax.set_ylim(1000, 100)\n",
    "ax.set_yticks(np.arange(1000, 0, -100))  \n",
    "#ax.set_xticklabels(np.arange(-90, 90, 10))\n",
    "#ax.set_xticks(lons_xs)    \n",
    "cf = ax.contourf(lats_xs, lev, pv_xs*1e6,levs_pv2, cmap=cmap, extend='both')\n",
    "c1 = ax.contour(lats_xs, lev, pv_xs*1e6,levs_15pvu, colors='black', linewidth=4)\n",
    "c3 = ax.contour(lats_xs, lev, th_xs,levs_th, colors='grey')\n",
    "ax.clabel(c3, fmt='%4.1i', fontsize=10)\n",
    "cb = fig.colorbar(cf, orientation='horizontal', aspect=65, shrink=0.5, pad=0.05, extendrect='True')\n",
    "\n",
    "wind = ax.barbs(lats_xs[2::8], lev, u_xs[:,2::8], v_xs[:,2::8], color='red')\n",
    "\n",
    "# Plot small stamp map\n",
    "iplev = list(lev).index(300)\n",
    "ax_inset = fig.add_axes([0.925, 0.695, 0.2, 0.2], projection=ccrs.PlateCarree())\n",
    "ax_inset.set_title('PV at 300hPa')\n",
    "ax_inset.coastlines()\n",
    "ax_inset.gridlines()\n",
    "bounds = [(lonW, lonE, latS, latN)]\n",
    "ax_inset.set_extent(*bounds, crs=ccrs.PlateCarree())\n",
    "ax_inset.contour(lon, lat, pv2[itime,iplev,:,:]*1e6, levels=levs_pv, transform=ccrs.PlateCarree())\n",
    "# Plot the path of the cross section\n",
    "ax_inset.plot([lon1, lon2], [lat1, lat2], c='red', lw=1, transform=ccrs.PlateCarree())\n",
    "\n",
    "figname='./figs/ECMWF_PV_XS_lon_'+str(lon1)+'_'+date2\n",
    "plt.savefig(figname+'.png',bbox_inches='tight')\n",
    "\n",
    "plt.show()"
   ]
  },
  {
   "cell_type": "code",
   "execution_count": null,
   "metadata": {
    "scrolled": false
   },
   "outputs": [],
   "source": [
    "# Plot\n",
    "fig = plt.figure(1, figsize=(14, 12))\n",
    "ax = plt.subplot(111)\n",
    "fig.suptitle('Potential vorticity (PVU) and equivalent potential temperature (K)', fontsize=16)\n",
    "ax.set_title(date_str[itime], loc='right', fontsize=14)\n",
    "ax.set_title('Crossection at '+str(lon1)+'W', loc='left', fontsize=14)\n",
    "ax.set_yscale('symlog')\n",
    "plt.xlabel('Latitude')\n",
    "plt.ylabel('Pressure level (hPa)')\n",
    "ax.set_yticklabels(np.arange(1000, 0, -100))\n",
    "ax.set_ylim(1000, 100)\n",
    "ax.set_yticks(np.arange(1000, 0, -100))  \n",
    "#ax.set_xticklabels(np.arange(-90, 90, 10))\n",
    "#ax.set_xticks(lons_xs)    \n",
    "cf = ax.contourf(lats_xs, lev, pv_xs*1e6,levs_pv2, cmap=cmap, extend='both')\n",
    "c1 = ax.contour(lats_xs, lev, pv_xs*1e6,levs_15pvu, colors='black', linewidth=4)\n",
    "c3 = ax.contour(lats_xs, lev, the_xs,levs_the, colors='grey')\n",
    "ax.clabel(c3, fmt='%4.1i', fontsize=10)\n",
    "cb = fig.colorbar(cf, orientation='horizontal', aspect=65, shrink=0.5, pad=0.05, extendrect='True')\n",
    "\n",
    "wind = ax.barbs(lats_xs[2::8], lev, u_xs[:,2::8], v_xs[:,2::8], color='red')\n",
    "\n",
    "# Plot small stamp map\n",
    "iplev = list(lev).index(300)\n",
    "ax_inset = fig.add_axes([0.925, 0.695, 0.2, 0.2], projection=ccrs.PlateCarree())\n",
    "ax_inset.set_title('PV at 300hPa')\n",
    "ax_inset.coastlines()\n",
    "ax_inset.gridlines()\n",
    "bounds = [(lonW, lonE, latS, latN)]\n",
    "ax_inset.set_extent(*bounds, crs=ccrs.PlateCarree())\n",
    "ax_inset.contour(lon, lat, pv2[itime,iplev,:,:]*1e6, levels=levs_pv, transform=ccrs.PlateCarree())\n",
    "# Plot the path of the cross section\n",
    "ax_inset.plot([lon1, lon2], [lat1, lat2], c='red', lw=1, transform=ccrs.PlateCarree())\n",
    "\n",
    "figname='./figs/ECMWF_PV_XS2_lon_'+str(lon1)+'_'+date2\n",
    "plt.savefig(figname+'.png',bbox_inches='tight')\n",
    "\n",
    "plt.show()"
   ]
  },
  {
   "cell_type": "markdown",
   "metadata": {},
   "source": [
    "# Tropopause dynamique"
   ]
  },
  {
   "cell_type": "raw",
   "metadata": {},
   "source": [
    "Ouverture fichier 2PVU."
   ]
  },
  {
   "cell_type": "code",
   "execution_count": null,
   "metadata": {
    "scrolled": false
   },
   "outputs": [],
   "source": [
    "f2pvu    = xr.open_dataset('./ecmwf/20140124-26_2pvu.nc').sel(time=slice(date1,date2))\n",
    "print(f2pvu.variables)"
   ]
  },
  {
   "cell_type": "raw",
   "metadata": {},
   "source": [
    "Variables Z2PVU Theta2PVU, u2PVU, v2PVU."
   ]
  },
  {
   "cell_type": "code",
   "execution_count": null,
   "metadata": {
    "scrolled": false
   },
   "outputs": [],
   "source": [
    "z0_2pvu = f2pvu['z']/g\n",
    "theta0_2pvu = f2pvu['pt']\n",
    "u0_2pvu = f2pvu['u']\n",
    "v0_2pvu = f2pvu['v']"
   ]
  },
  {
   "cell_type": "raw",
   "metadata": {},
   "source": [
    "Conversion longitudes en -180 à 180."
   ]
  },
  {
   "cell_type": "code",
   "execution_count": null,
   "metadata": {
    "scrolled": false
   },
   "outputs": [],
   "source": [
    "z1_2pvu = lonflip(z0_2pvu)\n",
    "theta1_2pvu = lonflip(theta0_2pvu)\n",
    "u1_2pvu = lonflip(u0_2pvu)\n",
    "v1_2pvu = lonflip(v0_2pvu)\n",
    "lon0  = theta1_2pvu.longitude.values\n",
    "print(lon0)"
   ]
  },
  {
   "cell_type": "raw",
   "metadata": {},
   "source": [
    "Sélection des données sur un sous-domaine géographique pour tous les champs."
   ]
  },
  {
   "cell_type": "code",
   "execution_count": null,
   "metadata": {
    "scrolled": true
   },
   "outputs": [],
   "source": [
    "latS=35\n",
    "latN=65\n",
    "lonW=-50\n",
    "lonE=20\n",
    "\n",
    "z_2pvu = z1_2pvu.sel(latitude=slice(latN,latS)).sel(longitude=slice(lonW,lonE))\n",
    "theta_2pvu = theta1_2pvu.sel(latitude=slice(latN,latS)).sel(longitude=slice(lonW,lonE))\n",
    "u_2pvu = u1_2pvu.sel(latitude=slice(latN,latS)).sel(longitude=slice(lonW,lonE))\n",
    "v_2pvu = v1_2pvu.sel(latitude=slice(latN,latS)).sel(longitude=slice(lonW,lonE))\n",
    "\n",
    "lat = theta_2pvu.latitude.values\n",
    "lon  = theta_2pvu.longitude.values\n",
    "\n",
    "print(z_2pvu.shape)\n",
    "print(theta_2pvu.shape)\n",
    "\n",
    "\n",
    "ddx_v2pvu=np.gradient(v_2pvu,axis=2)/dx\n",
    "ddy_u2pvu=np.gradient(u_2pvu,axis=1)/dy\n",
    "vort_2pvu=ddx_v2pvu-ddy_u2pvu+(u_2pvu/re)*np.tan(ylat*np.pi/180)"
   ]
  },
  {
   "cell_type": "raw",
   "metadata": {},
   "source": [
    "Z 2PVU, Theta 2PVU et vent 2PVU (animation)."
   ]
  },
  {
   "cell_type": "code",
   "execution_count": null,
   "metadata": {
    "scrolled": false
   },
   "outputs": [],
   "source": [
    "levels_th2PVU = np.arange(280,395,5)\n",
    "levels_z2PVU=np.arange(4500,10500,500)\n",
    "wind_slice = slice(None, None, 5)\n",
    "\n",
    "projection = ccrs.PlateCarree()\n",
    "bounds = [(lonW, lonE, latS, latN)]\n",
    "\n",
    "for i in range(len(time)):\n",
    "    #print(date_str[i])\n",
    "    fig = plt.figure(figsize=(17., 10.))\n",
    "    ax = plt.subplot(111, projection=projection)\n",
    "    ax.set_title('Geopopential height (mgp), potential temperature (K) and winds on the 2PVU surface', loc='left')\n",
    "    ax.set_title(date_str[i], loc='right')\n",
    "    plot_background(ax)\n",
    "    ax.set_extent(*bounds, crs=ccrs.PlateCarree())\n",
    "    cf = ax.contourf(lon, lat, theta_2pvu[i,:,:], levels_th2PVU, transform=ccrs.PlateCarree(), cmap='jet', extend='both')\n",
    "    c3 = ax.contour(lon, lat, z_2pvu[i,:,:], levels_z2PVU, colors='brown', linewidths=1, transform=ccrs.PlateCarree())\n",
    "    \n",
    "    ax.barbs(lon[wind_slice], lat[wind_slice],\n",
    "             u_2pvu[i][wind_slice, wind_slice],\n",
    "             v_2pvu[i][wind_slice, wind_slice], pivot='middle',\n",
    "             color='red', length=6.5, transform=ccrs.PlateCarree())\n",
    "    \n",
    "    ax.clabel(c3, inline=1, fmt='%4.1i', fontsize=10)\n",
    "    h3,_ = c3.legend_elements()\n",
    "    ax.legend([h3[0]], ['Z2PVU'], loc='lower right')\n",
    "    \n",
    "    cb = fig.colorbar(cf, orientation='horizontal', aspect=65, shrink=0.5, pad=0.05, extendrect='True')\n",
    "    cb.set_label('K')\n",
    "    \n",
    "    figname='./anim/ECMWF_2PVU_'+date_str[i]\n",
    "    plt.savefig(figname+'.png',bbox_inches='tight')\n",
    "    \n",
    "    plt.show()\n",
    "    plt.close()\n",
    "    \n",
    "gif_filepath = './anim/ECMWF_2PVU_'+date1+'-'+date2+'.gif'\n",
    "make_animation()\n",
    "IPdisplay.Image(url=gif_filepath)"
   ]
  },
  {
   "cell_type": "markdown",
   "metadata": {},
   "source": [
    "# Interaction barocline"
   ]
  },
  {
   "cell_type": "raw",
   "metadata": {},
   "source": [
    "Tourbillon potentiel à 300hPa, tourbillon relatif à 925 hPa et température potentielle équivalente à 850 hPa (animation)."
   ]
  },
  {
   "cell_type": "code",
   "execution_count": null,
   "metadata": {
    "scrolled": false
   },
   "outputs": [],
   "source": [
    "projection = ccrs.PlateCarree()\n",
    "bounds = [(lonW, lonE, latS, latN)]\n",
    "\n",
    "for i in range(len(time)):\n",
    "    #print(date_str[i])\n",
    "    fig = plt.figure(figsize=(17., 10.))\n",
    "    ax = plt.subplot(111, projection=projection)\n",
    "    ax.set_title('300hPa potential vorticity (PVU), 925hPa cyclonic relative vorticity (10$^{-5}$ s$^{-1}$) and 850hPa equivalent potential temperature (K)', loc='left')\n",
    "    ax.set_title(date_str[i], loc='right')\n",
    "    plot_background(ax)\n",
    "    ax.set_extent(*bounds, crs=ccrs.PlateCarree())\n",
    "    cf = ax.contourf(lon, lat, thetae[i,lev850,:,:], levels_the, transform=ccrs.PlateCarree(), cmap='jet', extend='both')\n",
    "    c3 = ax.contour(lon, lat, vort[i,lev925,:,:]*10**5, levels_vor, colors='black', linewidths=1, transform=ccrs.PlateCarree())\n",
    "    c4 = ax.contour(lon, lat, pv[i,lev300,:,:]*1e6, levs_pv3, colors='red', linewidths=1, transform=ccrs.PlateCarree())\n",
    "    \n",
    "    ax.clabel(c3, inline=1, fmt='%4.1i', fontsize=10)\n",
    "    ax.clabel(c4, inline=1, fmt='%4.1i', fontsize=10)\n",
    "    \n",
    "    h3,_ = c3.legend_elements()\n",
    "    h4,_ = c4.legend_elements()\n",
    "    ax.legend([h3[0], h4[0]], ['vort925hPa', 'PV300hPa'], loc='lower right')\n",
    "    \n",
    "    cb = fig.colorbar(cf, orientation='horizontal', aspect=65, shrink=0.5, pad=0.05, extendrect='True')\n",
    "    cb.set_label('K')\n",
    "    \n",
    "    figname='./anim/ECMWF_perturb9_'+date_str[i]\n",
    "    plt.savefig(figname+'.png',bbox_inches='tight')\n",
    "    \n",
    "    plt.show()\n",
    "    plt.close()\n",
    "    \n",
    "gif_filepath = './anim/ECMWF_perturb9_'+date1+'-'+date2+'.gif'\n",
    "make_animation()\n",
    "IPdisplay.Image(url=gif_filepath)"
   ]
  },
  {
   "cell_type": "raw",
   "metadata": {},
   "source": [
    "Z2PVU, tourbillon relatif à 925 hPa et température potentielle équivalente à 850 hPa (animation)."
   ]
  },
  {
   "cell_type": "code",
   "execution_count": null,
   "metadata": {
    "scrolled": false
   },
   "outputs": [],
   "source": [
    "projection = ccrs.PlateCarree()\n",
    "bounds = [(lonW, lonE, latS, latN)]\n",
    "\n",
    "for i in range(len(time)):\n",
    "    #print(date_str[i])\n",
    "    fig = plt.figure(figsize=(17., 10.))\n",
    "    ax = plt.subplot(111, projection=projection)\n",
    "    ax.set_title('2PVU geopotential height (mgp), 925hPa cyclonic relative vorticity (10$^{-5}$ s$^{-1}$) and 850hPa equivalent potential temperature (K)', loc='left')\n",
    "    ax.set_title(date_str[i], loc='right')\n",
    "    plot_background(ax)\n",
    "    ax.set_extent(*bounds, crs=ccrs.PlateCarree())\n",
    "    cf = ax.contourf(lon, lat, thetae[i,lev850,:,:], levels_the, transform=ccrs.PlateCarree(), cmap='jet', extend='both')\n",
    "    c3 = ax.contour(lon, lat, vort[i,lev925,:,:]*10**5, levels_vor, colors='black', linewidths=1, transform=ccrs.PlateCarree())\n",
    "    c4 = ax.contour(lon, lat, z_2pvu[i,:,:], levels_z2PVU, colors='brown', linewidths=1, transform=ccrs.PlateCarree())\n",
    "    \n",
    "    ax.clabel(c3, inline=1, fmt='%4.1i', fontsize=10)\n",
    "    ax.clabel(c4, inline=1, fmt='%4.1i', fontsize=10)\n",
    "    \n",
    "    h3,_ = c3.legend_elements()\n",
    "    h4,_ = c4.legend_elements()\n",
    "    ax.legend([h3[0], h4[0]], ['vort925hPa', 'Z2PVU'], loc='lower right')\n",
    "    \n",
    "    cb = fig.colorbar(cf, orientation='horizontal', aspect=65, shrink=0.5, pad=0.05, extendrect='True')\n",
    "    cb.set_label('K')\n",
    "    \n",
    "    figname='./anim/ECMWF_perturb10_'+date_str[i]\n",
    "    plt.savefig(figname+'.png',bbox_inches='tight')\n",
    "    \n",
    "    plt.show()\n",
    "    plt.close()\n",
    "    \n",
    "gif_filepath = './anim/ECMWF_perturb10_'+date1+'-'+date2+'.gif'\n",
    "make_animation()\n",
    "IPdisplay.Image(url=gif_filepath)"
   ]
  },
  {
   "cell_type": "raw",
   "metadata": {},
   "source": [
    "Vue 3D : PV à 300hPa, tourbillon relatif à 925 hPa et température potentielle équivalente à 850 hPa (animation)."
   ]
  },
  {
   "cell_type": "code",
   "execution_count": null,
   "metadata": {
    "scrolled": false
   },
   "outputs": [],
   "source": [
    "for i in range(len(time)):\n",
    "    \n",
    "    plt.figure(figsize=(20, 20))\n",
    "    ax = plt.axes(projection=\"3d\", xlim=[lonW, lonE], ylim=[latS, latN], zlim=[0, 350])\n",
    "    ax.set_title('PV at 300hPa, cyclonic relative vorticity at 925hPa and $\\theta_e$ at 850hPa : '+date_str[i],\n",
    "                 y=1.0, pad=-20, fontsize=14)    \n",
    "    # Axes, grid\n",
    "    plt.box(False)\n",
    "    ax.set(frame_on=False)  # New\n",
    "    ax.set_zticklabels([])\n",
    "    ax.set_zticks([])\n",
    "    ax.grid(False)\n",
    "    ax.xaxis.pane.fill = False\n",
    "    ax.yaxis.pane.fill = False\n",
    "    ax.zaxis.pane.fill = False\n",
    "    ax.xaxis.pane.set_edgecolor('w')\n",
    "    ax.yaxis.pane.set_edgecolor('w')\n",
    "    ax.zaxis.pane.set_edgecolor('w')\n",
    "\n",
    "    # Background Map\n",
    "    target_projection = ccrs.PlateCarree()\n",
    "    feature = cfeature.NaturalEarthFeature(\"physical\", \"coastline\", \"10m\")\n",
    "    geoms = feature.geometries()\n",
    "    geoms = [target_projection.project_geometry(geom, feature.crs) for geom in geoms]\n",
    "    paths = list(itertools.chain.from_iterable(geos_to_path(geom) for geom in geoms))\n",
    "    segments = []\n",
    "    for path in paths:\n",
    "        vertices = [vertex for vertex, _ in path.iter_segments()]\n",
    "        vertices = np.asarray(vertices)\n",
    "        segments.append(vertices)\n",
    "    lc = LineCollection(segments, color=\"black\", zorder=0)\n",
    "    ax.add_collection3d(lc)\n",
    "    \n",
    "    # convert z to np array\n",
    "    pv300 = np.array(pv[i,lev300,:,:]*1e6)\n",
    "    th850 = np.array(thetae[i,lev850,:,:])\n",
    "    vort925 = np.array(vort[i,lev925,:,:]*10**5)\n",
    "\n",
    "    # Create meshgrid from lats, lons\n",
    "    x = lon\n",
    "    y = lat\n",
    "    x2 = np.append(0, x.flatten())\n",
    "    y2 = np.append(0, y.flatten())\n",
    "    x2, y2 = np.meshgrid(lon, lat)\n",
    "    \n",
    "    # Create contour plots on level 0 of z axis for Thetae\n",
    "    cf=ax.contourf(x2, y2, th850, levels_the, zdir=\"z\", offset=0, cmap=\"jet\",\n",
    "                   extent='both', alpha=0.8, zorder=10, antialiased=False)\n",
    "    ax.contour(x2, y2, vort925, levels_vor, zdir=\"z\", offset=0, colors=\"k\", linewidths=2, zorder=10)\n",
    "    cbar2 = plt.colorbar(cf, shrink=0.5, pad=0.01, orientation=\"vertical\", location=\"left\")\n",
    "    cbar2.set_label(label=\"K\", fontsize=10)\n",
    "    \n",
    "    # Create contour plots on level 250 of z axis for PV300\n",
    "    cf=ax.contourf(x2, y2, pv300, levs_pv, zdir=\"z\", offset=250, cmap=\"viridis\",\n",
    "                   extent='both', alpha=1, zorder=100, antialiased=False)\n",
    "    cbar2 = plt.colorbar(cf, shrink=0.5, pad=0.01, orientation=\"vertical\")\n",
    "    cbar2.set_label(label=\"PVU\", fontsize=10)\n",
    "    \n",
    "    # Set view angle\n",
    "    ax.view_init(25, 270)\n",
    "        \n",
    "    figname='./anim/ECMWF_PV300_Thetae850_vort925_'+date_str[i]\n",
    "    plt.savefig(figname+'.png', transparent = False, bbox_inches = 'tight', pad_inches = 0)\n",
    "    plt.close()\n",
    "\n",
    "gif_filepath = './anim/ECMWF_PV300_Thetae850_vort925_'+date1+'-'+date2+'.gif'\n",
    "make_animation()\n",
    "IPdisplay.Image(url=gif_filepath)"
   ]
  },
  {
   "cell_type": "raw",
   "metadata": {},
   "source": [
    "Vue 3D : Z 2PVU, Theta 2PVU, tourbillon relatif à 925 hPa et température potentielle équivalente à 850 hPa (animation)."
   ]
  },
  {
   "cell_type": "code",
   "execution_count": null,
   "metadata": {
    "scrolled": false
   },
   "outputs": [],
   "source": [
    "for i in range(len(time)):\n",
    "    \n",
    "    plt.figure(figsize=(20, 20))\n",
    "    ax = plt.axes(projection=\"3d\", xlim=[lonW, lonE], ylim=[latS, latN], zlim=[0, 350])\n",
    "    ax.set_title('Geopotential height and $\\theta$ at 2PVU, cyclonic relative vorticity at 925hPa and $\\theta_e$ at 850hPa : '+date_str[i],\n",
    "                 y=1.0, pad=-20, fontsize=14)    \n",
    "    # Axes, grid\n",
    "    plt.box(False)\n",
    "    ax.set(frame_on=False)  # New\n",
    "    ax.set_zticklabels([])\n",
    "    ax.set_zticks([])\n",
    "    ax.grid(False)\n",
    "    ax.xaxis.pane.fill = False\n",
    "    ax.yaxis.pane.fill = False\n",
    "    ax.zaxis.pane.fill = False\n",
    "    ax.xaxis.pane.set_edgecolor('w')\n",
    "    ax.yaxis.pane.set_edgecolor('w')\n",
    "    ax.zaxis.pane.set_edgecolor('w')\n",
    "\n",
    "    # Background Map\n",
    "    target_projection = ccrs.PlateCarree()\n",
    "    feature = cfeature.NaturalEarthFeature(\"physical\", \"coastline\", \"10m\")\n",
    "    geoms = feature.geometries()\n",
    "    geoms = [target_projection.project_geometry(geom, feature.crs) for geom in geoms]\n",
    "    paths = list(itertools.chain.from_iterable(geos_to_path(geom) for geom in geoms))\n",
    "    segments = []\n",
    "    for path in paths:\n",
    "        vertices = [vertex for vertex, _ in path.iter_segments()]\n",
    "        vertices = np.asarray(vertices)\n",
    "        segments.append(vertices)\n",
    "    lc = LineCollection(segments, color=\"black\", zorder=0)\n",
    "    ax.add_collection3d(lc)\n",
    "\n",
    "    # convert z to np array\n",
    "    th_2pvu = np.array(theta_2pvu[i,:,:])\n",
    "    alt_2pvu = np.array(z_2pvu[i,:,:])    \n",
    "    th850 = np.array(thetae[i,lev850,:,:])\n",
    "    vort925 = np.array(vort[i,lev925,:,:]*10**5)\n",
    "\n",
    "    # Create meshgrid from lats, lons\n",
    "    x = lon\n",
    "    y = lat\n",
    "    x2 = np.append(0, x.flatten())\n",
    "    y2 = np.append(0, y.flatten())\n",
    "    x2, y2 = np.meshgrid(lon, lat)\n",
    "    \n",
    "    # Create contour plots on level 0 of z axis for Thetae\n",
    "    cf=ax.contourf(x2, y2, th850, levels_the, zdir=\"z\", offset=0, cmap=\"jet\",\n",
    "                   extent='both', alpha=0.8, zorder=10, antialiased=False)\n",
    "    ax.contour(x2, y2, vort925, levels_vor, zdir=\"z\", offset=0, colors=\"k\", linewidths=2, zorder=10)\n",
    "    cbar2 = plt.colorbar(cf, shrink=0.5, pad=0.01, orientation=\"vertical\", location=\"left\")\n",
    "    cbar2.set_label(label=\"K\", fontsize=10)\n",
    "    \n",
    "    # Create contour plots on level 250 of z axis for Theta2PVU and Z2PVU\n",
    "    cf=ax.contourf(x2, y2, th_2pvu, levels_th2PVU, zdir=\"z\", offset=250, cmap=\"jet\",\n",
    "                   extent='both', alpha=0.8, zorder=100, antialiased=False)\n",
    "    ax.contour(x2, y2, alt_2pvu, levels_z2PVU, zdir=\"z\", offset=250, colors=\"k\", linewidths=2, zorder=100)\n",
    "    cbar2 = plt.colorbar(cf, shrink=0.5, pad=0.01, orientation=\"vertical\")\n",
    "    cbar2.set_label(label=\"K\", fontsize=10)\n",
    "    \n",
    "    # Set view angle\n",
    "    ax.view_init(25, 270)\n",
    "        \n",
    "    figname='./anim/ECMWF_2PVU_Thetae850_vort925_'+date_str[i]\n",
    "    plt.savefig(figname+'.png', transparent = False, bbox_inches = 'tight', pad_inches = 0)\n",
    "    plt.close()\n",
    "\n",
    "gif_filepath = './anim/ECMWF_2PVU_Thetae850_vort925_'+date1+'-'+date2+'.gif'\n",
    "make_animation()\n",
    "IPdisplay.Image(url=gif_filepath)"
   ]
  },
  {
   "cell_type": "markdown",
   "metadata": {},
   "source": [
    "# Tourbillon potentiel sur surface isentrope"
   ]
  },
  {
   "cell_type": "raw",
   "metadata": {},
   "source": [
    "Ouverture de t, u, v, pv sur 30N-90N"
   ]
  },
  {
   "cell_type": "code",
   "execution_count": null,
   "metadata": {
    "scrolled": false
   },
   "outputs": [],
   "source": [
    "t = t0.sel(latitude=slice(90,30))\n",
    "u = u0.sel(latitude=slice(90,30))\n",
    "v = v0.sel(latitude=slice(90,30))\n",
    "pv = pv0.sel(latitude=slice(90,30))\n",
    "\n",
    "lat = pv.latitude.values\n",
    "lon  = pv.longitude.values"
   ]
  },
  {
   "cell_type": "raw",
   "metadata": {},
   "source": [
    "Tourbillon potentiel sur surface isentrope"
   ]
  },
  {
   "cell_type": "markdown",
   "metadata": {},
   "source": [
    "https://unidata.github.io/MetPy/latest/api/generated/metpy.calc.isentropic_interpolation.html"
   ]
  },
  {
   "cell_type": "code",
   "execution_count": null,
   "metadata": {
    "scrolled": false
   },
   "outputs": [],
   "source": [
    "theta_lev=315\n",
    "isen_level = np.array([theta_lev]) * units.kelvin\n",
    "\n",
    "isen_press, isen_u, isen_v, isen_pv = mpcalc.isentropic_interpolation(isen_level, lev* units.hPa, t, u, v, pv)"
   ]
  },
  {
   "cell_type": "code",
   "execution_count": null,
   "metadata": {
    "scrolled": false
   },
   "outputs": [],
   "source": [
    "isen_press = isen_press.squeeze()\n",
    "isen_u = isen_u.squeeze()\n",
    "isen_v = isen_v.squeeze()\n",
    "isen_pv = isen_pv.squeeze()\n",
    "\n",
    "print(isen_pv.shape)"
   ]
  },
  {
   "cell_type": "raw",
   "metadata": {},
   "source": [
    "Cartes hémisphérique (30N-90N) du tourbillon potentiel - comparaison 300hPa VS 315K."
   ]
  },
  {
   "cell_type": "code",
   "execution_count": null,
   "metadata": {
    "scrolled": false
   },
   "outputs": [],
   "source": [
    "projection=ccrs.NorthPolarStereo()\n",
    "bounds = [(-180., 180., 30, 90)]\n",
    "\n",
    "# Find the index value for the isobaric surface\n",
    "iplev = list(lev).index(300)\n",
    "\n",
    "levs_pv = np.arange(-1, 8.5, 0.5)\n",
    "\n",
    "for i in range(len(time)):\n",
    "    print(date_str[i])\n",
    "    \n",
    "    fig = plt.figure(figsize=(15., 10.))\n",
    "    fig.suptitle('Potential vorticity : '+date_str[i], fontsize=16)\n",
    "    \n",
    "    ax = plt.subplot(121, projection=projection)\n",
    "    ax.set_title('Potential vorticity (PVU) on the 300 hPa isobaric surface', loc='center')\n",
    "    ax.set_extent(*bounds, ccrs.PlateCarree())\n",
    "    ax.coastlines()\n",
    "    # Compute a circle in axes coordinates, which we can use as a boundary\n",
    "    # for the map. We can pan/zoom as much as we like - the boundary will be\n",
    "    # permanently circular.\n",
    "    angle = np.linspace(0, 2*np.pi, 100)\n",
    "    center, radius = [0.5, 0.5], 0.5\n",
    "    verts = np.vstack([np.sin(angle), np.cos(angle)]).T\n",
    "    circle = mpath.Path(verts * radius + center)\n",
    "    ax.set_boundary(circle, transform=ax.transAxes)\n",
    "    ax.gridlines(crs=ccrs.PlateCarree(), linewidth=0.5, color='gray', alpha=0.5, linestyle='-')  \n",
    "    cs1 = ax.contourf(lon, lat, pv[i,iplev,:,:]*1e6, levs_pv, cmap=cmap, extend='both', transform=ccrs.PlateCarree())\n",
    "    cb = plt.colorbar(cs1, orientation='horizontal', aspect=65, shrink=0.5, pad=0.05, extendrect='True')\n",
    "    cb.set_label('10$^{-6}$ K  m$^{2}$ kg$^{-1}$ s$^{-1}$')\n",
    "    \n",
    "    ax = plt.subplot(122, projection=projection)\n",
    "    ax.set_title('Potential vorticity (PVU) on the '+str(theta_lev)+' isentropic surface', loc='center')\n",
    "    ax.set_extent(*bounds, ccrs.PlateCarree())\n",
    "    ax.coastlines()\n",
    "    # Compute a circle in axes coordinates, which we can use as a boundary\n",
    "    # for the map. We can pan/zoom as much as we like - the boundary will be\n",
    "    # permanently circular.\n",
    "    angle = np.linspace(0, 2*np.pi, 100)\n",
    "    center, radius = [0.5, 0.5], 0.5\n",
    "    verts = np.vstack([np.sin(angle), np.cos(angle)]).T\n",
    "    circle = mpath.Path(verts * radius + center)\n",
    "    ax.set_boundary(circle, transform=ax.transAxes)\n",
    "    ax.gridlines(crs=ccrs.PlateCarree(), linewidth=0.5, color='gray', alpha=0.5, linestyle='-')  \n",
    "    cs1 = ax.contourf(lon, lat, isen_pv[i,:,:]*1e6, levs_pv, cmap=cmap, extend='both', transform=ccrs.PlateCarree())\n",
    "    cb = plt.colorbar(cs1, orientation='horizontal', aspect=65, shrink=0.5, pad=0.05, extendrect='True')\n",
    "    cb.set_label('10$^{-6}$ K  m$^{2}$ kg$^{-1}$ s$^{-1}$')\n",
    "    \n",
    "    figname='./anim/ECMWF_PV_polarNH_isen_'+date_str[i]\n",
    "    plt.savefig(figname+'.png',bbox_inches='tight')\n",
    "    \n",
    "    plt.close()\n",
    "\n",
    "gif_filepath = './anim/ECMWF_PV_polarNH_isen_'+date1+'-'+date2+'.gif'\n",
    "make_animation()\n",
    "IPdisplay.Image(url=gif_filepath)"
   ]
  },
  {
   "cell_type": "markdown",
   "metadata": {},
   "source": [
    "# Forçage géostrophique (Hoskins)"
   ]
  },
  {
   "cell_type": "raw",
   "metadata": {},
   "source": [
    "Sous-domaine pour tous les champs"
   ]
  },
  {
   "cell_type": "code",
   "execution_count": null,
   "metadata": {
    "scrolled": true
   },
   "outputs": [],
   "source": [
    "latS=35\n",
    "latN=65\n",
    "lonW=-50\n",
    "lonE=20\n",
    "\n",
    "msl = msl1.sel(latitude=slice(latN,latS)).sel(longitude=slice(lonW,lonE))\n",
    "z = z1.sel(latitude=slice(latN,latS)).sel(longitude=slice(lonW,lonE))\n",
    "u = u1.sel(latitude=slice(latN,latS)).sel(longitude=slice(lonW,lonE))\n",
    "v = v1.sel(latitude=slice(latN,latS)).sel(longitude=slice(lonW,lonE))\n",
    "t = t1.sel(latitude=slice(latN,latS)).sel(longitude=slice(lonW,lonE))\n",
    "w = w1.sel(latitude=slice(latN,latS)).sel(longitude=slice(lonW,lonE))\n",
    "q = q1.sel(latitude=slice(latN,latS)).sel(longitude=slice(lonW,lonE))\n",
    "pv = pv1.sel(latitude=slice(latN,latS)).sel(longitude=slice(lonW,lonE))\n",
    "\n",
    "lat = z.latitude.values\n",
    "lon  = w.longitude.values\n",
    "\n",
    "print(z.shape)\n",
    "print(msl.shape)"
   ]
  },
  {
   "cell_type": "raw",
   "metadata": {},
   "source": [
    "Calcul des composantes du forçage géostrophique (Q1, Q2) et de div(Q) à 700hPa."
   ]
  },
  {
   "cell_type": "markdown",
   "metadata": {},
   "source": [
    "<div class=\"alert alert-danger\">\n",
    "$$\\vec{Q} = (Q_1, Q_2)\n",
    "=  - \\frac{R}{\\sigma p}\\left(\n",
    "         \\frac{\\partial \\vec{v}_g}{\\partial x} \\cdot \\nabla_p T,\n",
    "         \\frac{\\partial \\vec{v}_g}{\\partial y} \\cdot \\nabla_p T\n",
    "     \\right)$$\n",
    "</div>"
   ]
  },
  {
   "cell_type": "raw",
   "metadata": {},
   "source": [
    "Dates et domaine."
   ]
  },
  {
   "cell_type": "code",
   "execution_count": null,
   "metadata": {
    "scrolled": false
   },
   "outputs": [],
   "source": [
    "date_selection=\"2014-01-26T00\"\n",
    "itime = date_str.index(date_selection)\n",
    "bounds = [(-30, -10, 50, 60)]\n",
    "projection = ccrs.PlateCarree()"
   ]
  },
  {
   "cell_type": "code",
   "execution_count": null,
   "metadata": {
    "scrolled": false
   },
   "outputs": [],
   "source": [
    "z1=z[itime,lev700,:,:]\n",
    "u1=u[itime,lev700,:,:]\n",
    "v1=v[itime,lev700,:,:]\n",
    "t1=t[itime,lev700,:,:]\n",
    "w1=w[itime,lev700,:,:]\n",
    "print(w1.shape)\n",
    "\n",
    "z1 = gaussian_filter(z1, sigma=3.0)\n",
    "u1 = gaussian_filter(u1, sigma=3.0)\n",
    "v1 = gaussian_filter(v1, sigma=3.0)\n",
    "t1 = gaussian_filter(t1, sigma=3.0)\n",
    "w1 = gaussian_filter(w1, sigma=3.0)\n",
    "\n",
    "ddx_z=np.gradient(z1,axis=1)/dx\n",
    "ddy_z=np.gradient(z1,axis=0)/dy\n",
    "\n",
    "ug=(-1)*(g/f)*ddy_z\n",
    "vg=(g/f)*ddx_z\n",
    "\n",
    "ddx_ug=np.gradient(ug,axis=1)/dx\n",
    "ddx_vg=np.gradient(vg,axis=1)/dx\n",
    "ddy_ug=np.gradient(ug,axis=0)/dy\n",
    "ddy_vg=np.gradient(vg,axis=0)/dy\n",
    "\n",
    "ddx_temp=np.gradient(t1,axis=1)/dx\n",
    "ddy_temp=np.gradient(t1,axis=0)/dy\n",
    "\n",
    "p=lev700*100\n",
    "s=0.0001\n",
    "q1=-(r/(s*p))*(ddx_temp*ddx_ug+ddy_temp*ddx_vg)\n",
    "q2=-(r/(s*p))*(ddx_temp*ddy_ug+ddy_temp*ddy_vg)\n",
    "\n",
    "ddx_q=np.gradient(q1,axis=1)/dx\n",
    "ddy_q=np.gradient(q2,axis=0)/dy\n",
    "divq=ddx_q+ddy_q\n",
    "divq1 = gaussian_filter(divq, sigma=3.0)*10**11\n",
    "\n",
    "print(divq1)"
   ]
  },
  {
   "cell_type": "raw",
   "metadata": {},
   "source": [
    "Tracé du géopotentiel, de la vitesse verticale et de div(Q) à 700hPa (avec filtrage spatial pour garder le signal de grande échelle)."
   ]
  },
  {
   "cell_type": "code",
   "execution_count": null,
   "metadata": {
    "scrolled": false
   },
   "outputs": [],
   "source": [
    "wind_slice = slice(None, None, 1)\n",
    "\n",
    "levels_divq = np.arange(-8,8.5,0.5)\n",
    "levels_w = np.arange(-2,2.2,0.2)\n",
    "\n",
    "fig = plt.figure(figsize=(15., 12.))\n",
    "ax = fig.add_subplot(1, 1, 1, projection=projection)\n",
    "ax.set_title('Geopotential height, Q vector divergence and vertical motion at 700 hPa', fontsize=14)\n",
    "ax.set_title(date_str[itime], loc='right', fontsize=14)\n",
    "\n",
    "plot_background(ax)\n",
    "ax.set_extent(*bounds, crs=ccrs.PlateCarree())\n",
    "\n",
    "cf = ax.contourf(lon, lat, divq1, levels_divq, transform=ccrs.PlateCarree(), cmap='bwr', extend='both')\n",
    "cb = fig.colorbar(cf, orientation='horizontal', aspect=65, shrink=0.5, pad=0.05, extendrect='True')\n",
    "cb.set_label('10$^{-13}$ s$^{-1}$')\n",
    "\n",
    "c1 = ax.contour(lon, lat, z1, levels_z700, colors='black', linewidths=1, transform=ccrs.PlateCarree())\n",
    "c2 = ax.contour(lon, lat, w1, levels_wpos[levels_wpos != 0], colors='brown', linewidths=1,\n",
    "                transform=ccrs.PlateCarree()) \n",
    "c3 = ax.contour(lon, lat, w1, levels_wneg[levels_wneg != 0], colors='green', linewidths=1,\n",
    "                linestyle=\"--\", transform=ccrs.PlateCarree()) \n",
    "\n",
    "ax.clabel(c1, fmt='%4.1i', fontsize=10)\n",
    "ax.clabel(c2, fmt='%4.1f', fontsize=10)\n",
    "ax.clabel(c3, fmt='%4.1f', fontsize=10)\n",
    "\n",
    "h1,_ = c1.legend_elements()\n",
    "h2,_ = c2.legend_elements()\n",
    "ax.legend([h1[0], h2[0], h3[0]], ['Z700hPa', 'VV+ 700hPa', 'VV- 700hPa'], loc='lower right')\n",
    "\n",
    "ax.quiver(lon[wind_slice], lat[wind_slice],\n",
    "         q1[wind_slice, wind_slice],\n",
    "         q2[wind_slice, wind_slice], pivot='mid', headwidth=2, headlength=2,\n",
    "         color='grey', scale_units='width', transform=ccrs.PlateCarree())\n",
    "\n",
    "figname='./figs/ECMWF_Q_'+date_str[itime]\n",
    "\n",
    "plt.savefig(figname+'.png',bbox_inches='tight')\n",
    "\n",
    "plt.show()"
   ]
  },
  {
   "cell_type": "markdown",
   "metadata": {},
   "source": [
    "# Diagnostics liés à la frontogenèse"
   ]
  },
  {
   "cell_type": "raw",
   "metadata": {},
   "source": [
    "Dates et domaine."
   ]
  },
  {
   "cell_type": "code",
   "execution_count": null,
   "metadata": {
    "scrolled": false
   },
   "outputs": [],
   "source": [
    "date_selection=\"2014-01-26T00\"\n",
    "itime = date_str.index(date_selection)\n",
    "bounds = [(-40, 0, 40, 65)]"
   ]
  },
  {
   "cell_type": "raw",
   "metadata": {},
   "source": [
    "Gradients horizontaux de température potentielle et de vent (déjà calculés plus haut...)"
   ]
  },
  {
   "cell_type": "code",
   "execution_count": null,
   "metadata": {
    "scrolled": false
   },
   "outputs": [],
   "source": [
    "ddx_v=np.gradient(v,axis=3)/dx\n",
    "ddy_u=np.gradient(u,axis=2)/dy\n",
    "ddx_u=np.gradient(u,axis=3)/dx\n",
    "ddy_v=np.gradient(v,axis=2)/dy\n",
    "ddx_theta=np.gradient(theta,axis=3)/dx\n",
    "ddy_theta=np.gradient(theta,axis=2)/dy"
   ]
  },
  {
   "cell_type": "raw",
   "metadata": {},
   "source": [
    "Déformations de cisaillement, d'étirement et taux de déformation."
   ]
  },
  {
   "cell_type": "markdown",
   "metadata": {},
   "source": [
    "<div class=\"alert alert-danger\">\n",
    "$$d_c = \\frac{\\partial v}{\\partial x}+\\frac{\\partial u}{\\partial y}$$\n",
    "$$d_e = \\frac{\\partial u}{\\partial x}-\\frac{\\partial v}{\\partial y}$$\n",
    "$$d = \\sqrt{d_c^2+d_e^2}$$\n",
    "</div>"
   ]
  },
  {
   "cell_type": "code",
   "execution_count": null,
   "metadata": {
    "scrolled": false
   },
   "outputs": [],
   "source": [
    "shrd = ddx_v + ddy_u\n",
    "strd = ddx_u - ddy_v\n",
    "tdef = np.sqrt(shrd**2 + strd**2)\n",
    "print(strd.shape)"
   ]
  },
  {
   "cell_type": "raw",
   "metadata": {},
   "source": [
    "Calcul de la fonction de frontogénèse avec la déformation (conversion en K/100km/3h)."
   ]
  },
  {
   "cell_type": "markdown",
   "metadata": {},
   "source": [
    "$$F=\\frac{1}{2}\\left|\\nabla \\theta\\right|[d cos(2\\beta)-div(\\vec{V}_h)]$$"
   ]
  },
  {
   "cell_type": "code",
   "execution_count": null,
   "metadata": {
    "scrolled": false
   },
   "outputs": [],
   "source": [
    "mag_thta = np.sqrt(ddx_theta**2 + ddy_theta**2)\n",
    "\n",
    "psi = 0.5 * np.arctan2(shrd, strd)\n",
    "beta = np.arcsin((-ddx_theta * np.cos(psi) - ddy_theta * np.sin(psi)) / mag_thta)\n",
    "\n",
    "frontogenesis1 = 0.5 * mag_thta * (tdef * np.cos(2 * beta) - div)\n",
    "frontogenesis1=frontogenesis1*1000*100*3600*3"
   ]
  },
  {
   "cell_type": "raw",
   "metadata": {},
   "source": [
    "Calcul de la fonction de frontogénèse avec les dérivées spatiales de température potentielle et de vent (conversion en K/100km/h)."
   ]
  },
  {
   "cell_type": "markdown",
   "metadata": {},
   "source": [
    "<div class=\"alert alert-danger\">\n",
    "$$F=\\frac{1}{|\\nabla \\theta|}\\left(\\frac{-\\partial \\theta}{\\partial x}\\left(\\frac{\\partial u}{\\partial x}\\frac{\\partial \\theta}{\\partial x}+\\frac{\\partial v}{\\partial x}\\frac{\\partial \\theta}{\\partial y}\\right)-\\frac{\\partial \\theta}{\\partial y}\\left(\\frac{\\partial u}{\\partial y}\\frac{\\partial \\theta}{\\partial x}+\\frac{\\partial v}{\\partial y}\\frac{\\partial \\theta}{\\partial y}\\right)\\right)$$\n",
    "</div>"
   ]
  },
  {
   "cell_type": "code",
   "execution_count": null,
   "metadata": {
    "scrolled": false
   },
   "outputs": [],
   "source": [
    "frontogenesis2 = (1 / mag_thta) * ((-ddx_theta)*(ddx_u*ddx_theta+ddx_v*ddy_theta)-\n",
    "                                   ddy_theta*(ddy_u*ddx_theta+ddy_v*ddy_theta))\n",
    "frontogenesis2=frontogenesis2*1000*100*3600*3"
   ]
  },
  {
   "cell_type": "raw",
   "metadata": {},
   "source": [
    "Tracé du géopotentiel à 925hPa, de la température potentielle équivalente à 850hPa et de la fonction de frontogenèse à 850hPa (calcul 1)."
   ]
  },
  {
   "cell_type": "code",
   "execution_count": null,
   "metadata": {
    "scrolled": false
   },
   "outputs": [],
   "source": [
    "levels_fronto = np.arange(-10,10.5,0.5)\n",
    "levels_the2 = np.arange(250,345,2.5)\n",
    "wind_slice = slice(None, None, 8)\n",
    "\n",
    "fig = plt.figure(figsize=(15., 12.))\n",
    "ax = fig.add_subplot(1, 1, 1, projection=projection)\n",
    "ax.set_title('Geopotential height at 925 hPa, ThetaE and frontogenesis at 850 hPa', fontsize=14)\n",
    "ax.set_title(date_str[itime], loc='right', fontsize=14)\n",
    "plot_background(ax)\n",
    "ax.set_extent(*bounds, crs=ccrs.PlateCarree())\n",
    "\n",
    "cf = ax.contourf(lon, lat, frontogenesis1[itime,lev850,:,:], levels_fronto,\n",
    "                 transform=ccrs.PlateCarree(), cmap='bwr', extend='both')\n",
    "cb = fig.colorbar(cf, orientation='horizontal', aspect=65, shrink=0.5, pad=0.05, extendrect='True')\n",
    "\n",
    "cb.set_label('K/100km/3h')\n",
    "\n",
    "c1 = ax.contour(lon, lat, z[itime,lev925,:,:], levels_z925, colors='black',\n",
    "                linewidths=1, transform=ccrs.PlateCarree())\n",
    "c2 = ax.contour(lon, lat, thetae[itime,lev850,:,:], levels_the2, colors='blue',\n",
    "                linewidths=1, transform=ccrs.PlateCarree())\n",
    "ax.clabel(c1, fmt='%4.1i', fontsize=10)\n",
    "ax.clabel(c2, fmt='%3.1i', fontsize=10)\n",
    "\n",
    "ax.barbs(lon[wind_slice], lat[wind_slice],\n",
    "u[itime,lev925][wind_slice, wind_slice],\n",
    "v[itime,lev925][wind_slice, wind_slice], pivot='middle',\n",
    "color='red', length=6.5, transform=ccrs.PlateCarree())\n",
    "\n",
    "figname='./figs/ECMWF_fronto1_'+date_str[itime]\n",
    "\n",
    "plt.savefig(figname+'.png',bbox_inches='tight')\n",
    "\n",
    "plt.show()"
   ]
  },
  {
   "cell_type": "raw",
   "metadata": {},
   "source": [
    "Tracé du géopotentiel à 925hPa, de la température potentielle équivalente à 850hPa et de la fonction de frontogenèse à 850hPa (calcul 2)."
   ]
  },
  {
   "cell_type": "code",
   "execution_count": null,
   "metadata": {
    "scrolled": false
   },
   "outputs": [],
   "source": [
    "fig = plt.figure(figsize=(15., 12.))\n",
    "ax = fig.add_subplot(1, 1, 1, projection=projection)\n",
    "ax.set_title('Geopotential height at 925 hPa, ThetaE and frontogenesis at 850 hPa', fontsize=14)\n",
    "ax.set_title(date_str[itime], loc='right', fontsize=14)\n",
    "plot_background(ax)\n",
    "ax.set_extent(*bounds, crs=ccrs.PlateCarree())\n",
    "\n",
    "cf = ax.contourf(lon, lat, frontogenesis2[itime,lev850,:,:], levels_fronto,\n",
    "                 transform=ccrs.PlateCarree(), cmap='bwr', extend='both')\n",
    "cb = fig.colorbar(cf, orientation='horizontal', aspect=65, shrink=0.5, pad=0.05, extendrect='True')\n",
    "cb.set_label('K/100km/3h')\n",
    "\n",
    "c1 = ax.contour(lon, lat, z[itime,lev925,:,:], levels_z925, colors='black',\n",
    "                linewidths=1, transform=ccrs.PlateCarree())\n",
    "c2 = ax.contour(lon, lat, thetae[itime,lev850,:,:], levels_the2, colors='blue',\n",
    "                linewidths=1, transform=ccrs.PlateCarree())\n",
    "ax.clabel(c1, fmt='%4.1i', fontsize=10)\n",
    "ax.clabel(c2, fmt='%3.1i', fontsize=10)\n",
    "\n",
    "ax.barbs(lon[wind_slice], lat[wind_slice],\n",
    "u[itime,lev925][wind_slice, wind_slice],\n",
    "v[itime,lev925][wind_slice, wind_slice], pivot='middle',\n",
    "color='red', length=6.5, transform=ccrs.PlateCarree())\n",
    "\n",
    "figname='./figs/ECMWF_fronto2_'+date_str[itime]\n",
    "\n",
    "plt.savefig(figname+'.png',bbox_inches='tight')\n",
    "\n",
    "plt.show()"
   ]
  },
  {
   "cell_type": "raw",
   "metadata": {},
   "source": [
    "Tracé du géopotentiel à 925hPa, de la température potentielle équivalente à 850hPa et du champ de déformation à 850hPa.\n",
    "La direction de l’axe de dilatation principal est donnée parle vecteur de coordonnées (dc, -de+d). Le champ de déformation est représenté par un segment donnant la direction de l’axe de dilatation principal. La longueur du segment est proportionnelle au taux de déformation."
   ]
  },
  {
   "cell_type": "code",
   "execution_count": null,
   "metadata": {
    "scrolled": false
   },
   "outputs": [],
   "source": [
    "wind_slice = slice(None, None, 4)\n",
    "\n",
    "levels_the2 = np.arange(250,345,2.5)\n",
    "\n",
    "fig = plt.figure(figsize=(15., 12.))\n",
    "ax = fig.add_subplot(1, 1, 1, projection=projection)\n",
    "ax.set_title('Geopotential height at 925 hPa, ThetaE and deformation at 850 hPa', fontsize=14)\n",
    "ax.set_title(date_str[itime], loc='right', fontsize=14)\n",
    "plot_background(ax)\n",
    "ax.set_extent(*bounds, crs=ccrs.PlateCarree())\n",
    "\n",
    "cf = ax.contourf(lon, lat, thetae[itime,lev850,:,:], levels_the, transform=ccrs.PlateCarree(),\n",
    "                 cmap='jet', extend='both')\n",
    "c = ax.contour(lon, lat, thetae[itime,lev850,:,:], levels_the, transform=ccrs.PlateCarree(),\n",
    "               colors='grey', linewidths=1,)\n",
    "\n",
    "\n",
    "cb = fig.colorbar(cf, orientation='horizontal', aspect=65, shrink=0.5, pad=0.05, extendrect='True')\n",
    "cb.set_label('K')\n",
    "c1 = ax.contour(lon, lat, z[itime,lev925,:,:], levels_z925, colors='black', linewidths=1,\n",
    "                transform=ccrs.PlateCarree())\n",
    "ax.clabel(c1, fmt='%4.1i', fontsize=10)\n",
    "\n",
    "ax.quiver(lon[wind_slice], lat[wind_slice],\n",
    "shrd[itime,lev850][wind_slice, wind_slice],\n",
    "-strd[itime,lev850][wind_slice, wind_slice]+tdef[itime,lev850][wind_slice, wind_slice], pivot='mid',\n",
    "color='red', scale=0.009, width=0.002, headwidth=4, transform=ccrs.PlateCarree())\n",
    "\n",
    "ax.quiver(lon[wind_slice], lat[wind_slice],\n",
    "-shrd[itime,lev850][wind_slice, wind_slice],\n",
    "strd[itime,lev850][wind_slice, wind_slice]-tdef[itime,lev850][wind_slice, wind_slice], pivot='mid',\n",
    "color='red', scale=0.009, width=0.002, headwidth=4, transform=ccrs.PlateCarree())\n",
    "\n",
    "figname='./figs/ECMWF_fronto3_'+date_str[itime]\n",
    "\n",
    "plt.savefig(figname+'.png',bbox_inches='tight')\n",
    "\n",
    "plt.show()"
   ]
  }
 ],
 "metadata": {
  "kernelspec": {
   "display_name": "Python 3",
   "language": "python",
   "name": "python3"
  },
  "language_info": {
   "codemirror_mode": {
    "name": "ipython",
    "version": 3
   },
   "file_extension": ".py",
   "mimetype": "text/x-python",
   "name": "python",
   "nbconvert_exporter": "python",
   "pygments_lexer": "ipython3",
   "version": "3.7.11"
  }
 },
 "nbformat": 4,
 "nbformat_minor": 1
}
